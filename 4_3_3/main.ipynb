{
 "cells": [
  {
   "cell_type": "code",
   "execution_count": 1,
   "id": "733701ec-e91d-4282-aa52-eb853726271c",
   "metadata": {},
   "outputs": [],
   "source": [
    "import numpy as np\n",
    "import pandas as pd\n",
    "import matplotlib.pyplot as plt\n",
    "import matplotlib.ticker as ticker\n",
    "import math\n",
    "import scipy as sp\n",
    "import scipy.optimize as op\n",
    "from scipy.interpolate import UnivariateSpline\n",
    "import copy\n",
    "import os\n",
    "\n",
    "# Adding library directory to python search path\n",
    "import sys\n",
    "import git\n",
    "repo = git.Repo('.', search_parent_directories=True)\n",
    "library_dir = repo.working_tree_dir + '/lib'\n",
    "sys.path.insert(0, library_dir)\n",
    "\n",
    "import miptlib as mipt\n",
    "\n",
    "# Create directory for generated .tex and .pdf\n",
    "if not os.path.exists('gen'):\n",
    "    os.mkdir('gen')"
   ]
  },
  {
   "cell_type": "code",
   "execution_count": 2,
   "id": "836f5d02-0445-47ac-8df5-75bcd671e6d6",
   "metadata": {},
   "outputs": [],
   "source": [
    "class setup:\n",
    "    # first part\n",
    "    \n",
    "    H = 1210 # mm\n",
    "    lambd = 532 * 10**-9 # nm \n",
    "\n",
    "    #second part\n",
    "\n",
    "    L = 120.4     # cm\n",
    "    a1 = 130      # mm\n",
    "    b1_a2 = 670   # mm\n",
    "    b2 = 580      # mm\n",
    "\n",
    "    F1 = 130 # mm\n",
    "    F2 = 25 # mm\n",
    "\n",
    "    H_err = 10 # mm\n",
    "    x_err = 1 # mm\n",
    "    D_err = 0.01 # mm"
   ]
  },
  {
   "cell_type": "code",
   "execution_count": 3,
   "id": "9d9610ad-748c-497f-8952-0518d8bef08e",
   "metadata": {},
   "outputs": [
    {
     "data": {
      "text/html": [
       "<div>\n",
       "<style scoped>\n",
       "    .dataframe tbody tr th:only-of-type {\n",
       "        vertical-align: middle;\n",
       "    }\n",
       "\n",
       "    .dataframe tbody tr th {\n",
       "        vertical-align: top;\n",
       "    }\n",
       "\n",
       "    .dataframe thead th {\n",
       "        text-align: right;\n",
       "    }\n",
       "</style>\n",
       "<table border=\"1\" class=\"dataframe\">\n",
       "  <thead>\n",
       "    <tr style=\"text-align: right;\">\n",
       "      <th></th>\n",
       "      <th>1up</th>\n",
       "      <th>2up</th>\n",
       "      <th>3up</th>\n",
       "      <th>1do</th>\n",
       "      <th>2do</th>\n",
       "      <th>3do</th>\n",
       "      <th>2up.1</th>\n",
       "      <th>3up.1</th>\n",
       "      <th>2do.1</th>\n",
       "      <th>3do.1</th>\n",
       "      <th>2up.2</th>\n",
       "      <th>3up.2</th>\n",
       "      <th>2do.2</th>\n",
       "      <th>3do.2</th>\n",
       "    </tr>\n",
       "  </thead>\n",
       "  <tbody>\n",
       "    <tr>\n",
       "      <th>0</th>\n",
       "      <td>133.0</td>\n",
       "      <td>133.0</td>\n",
       "      <td>133.0</td>\n",
       "      <td>133.0</td>\n",
       "      <td>107.0</td>\n",
       "      <td>132.0</td>\n",
       "      <td>10.0</td>\n",
       "      <td>50.0</td>\n",
       "      <td>10.0</td>\n",
       "      <td>30.0</td>\n",
       "      <td>3.78</td>\n",
       "      <td>1.23</td>\n",
       "      <td>3.69</td>\n",
       "      <td>1.15</td>\n",
       "    </tr>\n",
       "    <tr>\n",
       "      <th>1</th>\n",
       "      <td>2.0</td>\n",
       "      <td>5.0</td>\n",
       "      <td>10.0</td>\n",
       "      <td>2.0</td>\n",
       "      <td>4.0</td>\n",
       "      <td>10.0</td>\n",
       "      <td>6.0</td>\n",
       "      <td>14.0</td>\n",
       "      <td>5.0</td>\n",
       "      <td>7.0</td>\n",
       "      <td>NaN</td>\n",
       "      <td>NaN</td>\n",
       "      <td>NaN</td>\n",
       "      <td>NaN</td>\n",
       "    </tr>\n",
       "  </tbody>\n",
       "</table>\n",
       "</div>"
      ],
      "text/plain": [
       "     1up    2up    3up    1do    2do    3do  2up.1  3up.1  2do.1  3do.1  \\\n",
       "0  133.0  133.0  133.0  133.0  107.0  132.0   10.0   50.0   10.0   30.0   \n",
       "1    2.0    5.0   10.0    2.0    4.0   10.0    6.0   14.0    5.0    7.0   \n",
       "\n",
       "   2up.2  3up.2  2do.2  3do.2  \n",
       "0   3.78   1.23   3.69   1.15  \n",
       "1    NaN    NaN    NaN    NaN  "
      ]
     },
     "execution_count": 3,
     "metadata": {},
     "output_type": "execute_result"
    }
   ],
   "source": [
    "data = mipt.read_excel('dat/433.xlsx', usecols=['B', 'C', 'D', 'E', 'F', 'G', 'K', 'L', 'M', 'N', 'Q', 'R', 'S', 'T'], nrows=14).dropna(how='all')\n",
    "data"
   ]
  },
  {
   "cell_type": "code",
   "execution_count": 4,
   "id": "1c1b9e20-9b51-4a94-ab06-72dd166b42b4",
   "metadata": {},
   "outputs": [
    {
     "data": {
      "text/html": [
       "<div>\n",
       "<style scoped>\n",
       "    .dataframe tbody tr th:only-of-type {\n",
       "        vertical-align: middle;\n",
       "    }\n",
       "\n",
       "    .dataframe tbody tr th {\n",
       "        vertical-align: top;\n",
       "    }\n",
       "\n",
       "    .dataframe thead th {\n",
       "        text-align: right;\n",
       "    }\n",
       "</style>\n",
       "<table border=\"1\" class=\"dataframe\">\n",
       "  <thead>\n",
       "    <tr style=\"text-align: right;\">\n",
       "      <th></th>\n",
       "      <th>1up</th>\n",
       "      <th>2up</th>\n",
       "      <th>3up</th>\n",
       "      <th>1do</th>\n",
       "      <th>2do</th>\n",
       "      <th>3do</th>\n",
       "      <th>2up_period</th>\n",
       "      <th>3up_period</th>\n",
       "      <th>2do_period</th>\n",
       "      <th>3do_period</th>\n",
       "      <th>2up_D</th>\n",
       "      <th>3up_D</th>\n",
       "      <th>2do_D</th>\n",
       "      <th>3do_D</th>\n",
       "    </tr>\n",
       "  </thead>\n",
       "  <tbody>\n",
       "    <tr>\n",
       "      <th>0</th>\n",
       "      <td>133.0</td>\n",
       "      <td>133.0</td>\n",
       "      <td>133.0</td>\n",
       "      <td>133.0</td>\n",
       "      <td>107.0</td>\n",
       "      <td>132.0</td>\n",
       "      <td>10.0</td>\n",
       "      <td>50.0</td>\n",
       "      <td>10.0</td>\n",
       "      <td>30.0</td>\n",
       "      <td>3.78</td>\n",
       "      <td>1.23</td>\n",
       "      <td>3.69</td>\n",
       "      <td>1.15</td>\n",
       "    </tr>\n",
       "    <tr>\n",
       "      <th>1</th>\n",
       "      <td>2.0</td>\n",
       "      <td>5.0</td>\n",
       "      <td>10.0</td>\n",
       "      <td>2.0</td>\n",
       "      <td>4.0</td>\n",
       "      <td>10.0</td>\n",
       "      <td>6.0</td>\n",
       "      <td>14.0</td>\n",
       "      <td>5.0</td>\n",
       "      <td>7.0</td>\n",
       "      <td>NaN</td>\n",
       "      <td>NaN</td>\n",
       "      <td>NaN</td>\n",
       "      <td>NaN</td>\n",
       "    </tr>\n",
       "  </tbody>\n",
       "</table>\n",
       "</div>"
      ],
      "text/plain": [
       "     1up    2up    3up    1do    2do    3do  2up_period  3up_period  \\\n",
       "0  133.0  133.0  133.0  133.0  107.0  132.0        10.0        50.0   \n",
       "1    2.0    5.0   10.0    2.0    4.0   10.0         6.0        14.0   \n",
       "\n",
       "   2do_period  3do_period  2up_D  3up_D  2do_D  3do_D  \n",
       "0        10.0        30.0   3.78   1.23   3.69   1.15  \n",
       "1         5.0         7.0    NaN    NaN    NaN    NaN  "
      ]
     },
     "execution_count": 4,
     "metadata": {},
     "output_type": "execute_result"
    }
   ],
   "source": [
    "xsl = {\n",
    "    \"1up\" : \"1up\",\n",
    "    \"2up\" : \"2up\",\n",
    "    \"3up\" : \"3up\",\n",
    "    \"1do\" : \"1do\",\n",
    "    \"2do\" : \"2do\",\n",
    "    \"3do\" : \"3do\",\n",
    "    \n",
    "    \"2up.1\" : \"2up_period\",\n",
    "    \"3up.1\" : \"3up_period\",\n",
    "    \"2do.1\" : \"2do_period\",\n",
    "    \"3do.1\" : \"3do_period\",\n",
    "\n",
    "    \"2up.2\" : \"2up_D\",\n",
    "    \"3up.2\" : \"3up_D\",\n",
    "    \"2do.2\" : \"2do_D\",\n",
    "    \"3do.2\" : \"3do_D\"\n",
    "    \n",
    "}\n",
    "\n",
    "data = mipt.map_excel(data, xsl)\n",
    "data"
   ]
  },
  {
   "cell_type": "code",
   "execution_count": 5,
   "id": "8ce58870-2b63-4517-bd7b-0393b487c415",
   "metadata": {},
   "outputs": [],
   "source": [
    "up1 = data['1up'].dropna()\n",
    "up2 = data['2up'].dropna()\n",
    "up3 = data['3up'].dropna()\n",
    "\n",
    "down1 = data['1do'].dropna()\n",
    "down2 = data['2do'].dropna()\n",
    "down3 = data['3do'].dropna()\n",
    "\n",
    "up2_per = data['2up_period'].dropna()\n",
    "up3_per = data['3up_period'].dropna()\n",
    "\n",
    "down2_per = data['2do_period'].dropna()\n",
    "down3_per = data['3do_period'].dropna()\n",
    "\n",
    "up2_D = data['2up_D'].dropna()\n",
    "up3_D = data['3up_D'].dropna()\n",
    "\n",
    "down2_D = data['2do_D'].dropna()\n",
    "down3_D = data['3do_D'].dropna()\n"
   ]
  },
  {
   "cell_type": "markdown",
   "id": "c6b6da2d-1367-4ac2-a2af-0c395647809f",
   "metadata": {},
   "source": [
    "$$d sin(\\theta) = m \\lambda$$\n",
    "$$sin(\\theta) \\approx \\theta \\approx tg(\\theta) = \\frac{x}{H}$$\n",
    "$$d = \\frac{m \\lambda H}{x}$$"
   ]
  },
  {
   "cell_type": "code",
   "execution_count": 6,
   "id": "fe909d36-6353-4e4b-8920-42460576911a",
   "metadata": {},
   "outputs": [
    {
     "name": "stdout",
     "output_type": "stream",
     "text": [
      "d = [ 9.68       24.2        48.4         9.68       24.06429907 48.76666667] mkm\n",
      "d_err = [0.10815365 0.27038414 0.54076827 0.10815365 0.30022103 0.54673817] mkm\n"
     ]
    }
   ],
   "source": [
    "d_raw = []\n",
    "d_raw_err = []\n",
    "\n",
    "d_raw.append(up1[1] * setup.H * setup.lambd / up1[0]) # in mkm\n",
    "d_raw_err.append(d_raw[len(d_raw) - 1] * np.sqrt((setup.H_err / setup.H)**2 + (setup.x_err / up1[0])**2))\n",
    "\n",
    "d_raw.append(up2[1] * setup.H * setup.lambd / up2[0]) # in mkm\n",
    "d_raw_err.append(d_raw[len(d_raw) - 1] * np.sqrt((setup.H_err / setup.H)**2 + (setup.x_err / up2[0])**2))\n",
    "\n",
    "d_raw.append(up3[1] * setup.H * setup.lambd / up3[0]) # in mkm\n",
    "d_raw_err.append(d_raw[len(d_raw) - 1] * np.sqrt((setup.H_err / setup.H)**2 + (setup.x_err / up3[0])**2))\n",
    "\n",
    "d_raw.append(down1[1] * setup.H * setup.lambd / down1[0]) # in mkm\n",
    "d_raw_err.append(d_raw[len(d_raw) - 1] * np.sqrt((setup.H_err / setup.H)**2 + (setup.x_err / down1[0])**2))\n",
    "\n",
    "d_raw.append(down2[1] * setup.H * setup.lambd / down2[0]) # in mkm\n",
    "d_raw_err.append(d_raw[len(d_raw) - 1] * np.sqrt((setup.H_err / setup.H)**2 + (setup.x_err / down2[0])**2))\n",
    "\n",
    "d_raw.append(down3[1] * setup.H * setup.lambd / down3[0]) # in mkm\n",
    "d_raw_err.append(d_raw[len(d_raw) - 1] * np.sqrt((setup.H_err / setup.H)**2 + (setup.x_err / down3[0])**2))\n",
    "\n",
    "d = np.array(d_raw)\n",
    "print(f\"d = {d * 10**6} mkm\")\n",
    "\n",
    "d_err = np.array(d_raw_err)\n",
    "print(f\"d_err = {d_err * 10**6} mkm\")"
   ]
  },
  {
   "cell_type": "markdown",
   "id": "7c3a7095-e523-4bad-89de-802c5ca0cc38",
   "metadata": {},
   "source": [
    "$$a_2 = \\frac{b_2 F_2}{b_2 - F_2}$$\n",
    "$$\\Gamma = \\frac{b_1 b_2}{a_1 a_2}$$\n",
    "$$d = \\frac{x}{n \\Gamma}$$"
   ]
  },
  {
   "cell_type": "code",
   "execution_count": 7,
   "id": "d74d8811-7af2-4cfa-bca4-138fe3c13c51",
   "metadata": {},
   "outputs": [
    {
     "name": "stdout",
     "output_type": "stream",
     "text": [
      "a2 = (26.126126126126128 +- 1) mm\n"
     ]
    }
   ],
   "source": [
    "a2 = setup.b2 * setup.F2 / (setup.b2 - setup.F2)\n",
    "print(f\"a2 = ({a2} +- 1) mm\")"
   ]
  },
  {
   "cell_type": "code",
   "execution_count": 8,
   "id": "821a16b6-4ec9-4f10-b419-621246289f1e",
   "metadata": {},
   "outputs": [
    {
     "name": "stdout",
     "output_type": "stream",
     "text": [
      "$\\Gamma$ = (109.95384615384616 +- 4.300303193495236)\n"
     ]
    }
   ],
   "source": [
    "Gamma = (setup.b1_a2 - a2) * setup.b2 / (setup.a1 * a2)\n",
    "Gamma_err = Gamma * np.sqrt((setup.x_err / (setup.b1_a2 - a2)) ** 2 + (setup.x_err / (setup.b2)) ** 2 + (setup.x_err / (setup.a1)) ** 2 + (setup.x_err / (a2)) ** 2)\n",
    "print(f\"$\\Gamma$ = ({Gamma} +- {Gamma_err})\")"
   ]
  },
  {
   "cell_type": "code",
   "execution_count": 9,
   "id": "a6f18f57-6d60-464d-b4ab-ee8865bd3940",
   "metadata": {},
   "outputs": [
    {
     "name": "stdout",
     "output_type": "stream",
     "text": [
      "d = [15.1578751  32.48116093 18.18945012 38.97739311] mkm\n",
      "d_err = [3.04538549 2.1792212  3.348543   2.82884442] mkm\n"
     ]
    }
   ],
   "source": [
    "d_per_raw = []\n",
    "d_per_raw_err = []\n",
    "\n",
    "d_per_raw.append(up2_per[0] / (up2_per[1] * Gamma))\n",
    "d_per_raw_err.append(d_per_raw[len(d_per_raw) - 1] * np.sqrt((setup.x_err / up2_per[0]) ** 2) + (Gamma_err / Gamma) ** 2)\n",
    "\n",
    "d_per_raw.append(up3_per[0] / (up3_per[1] * Gamma))\n",
    "d_per_raw_err.append(d_per_raw[len(d_per_raw) - 1] * np.sqrt((setup.x_err / up3_per[0]) ** 2) + (Gamma_err / Gamma) ** 2)\n",
    "\n",
    "d_per_raw.append(down2_per[0] / (down2_per[1] * Gamma))\n",
    "d_per_raw_err.append(d_per_raw[len(d_per_raw) - 1] * np.sqrt((setup.x_err / down2_per[0]) ** 2) + (Gamma_err / Gamma) ** 2)\n",
    "\n",
    "d_per_raw.append(down3_per[0] / (down3_per[1] * Gamma))\n",
    "d_per_raw_err.append(d_per_raw[len(d_per_raw) - 1] * np.sqrt((setup.x_err / down3_per[0]) ** 2) + (Gamma_err / Gamma) ** 2)\n",
    "\n",
    "d_per = np.array(d_per_raw)\n",
    "print(f\"d = {d_per * 10**3} mkm\")\n",
    "\n",
    "d_per_err = np.array(d_per_raw_err)\n",
    "print(f\"d_err = {d_per_err * 10**3} mkm\")"
   ]
  },
  {
   "cell_type": "markdown",
   "id": "4281cf9a-7c1c-4a11-be83-d0983568f45f",
   "metadata": {},
   "source": [
    "$$d = \\frac{2\\lambda F_1}{D}$$"
   ]
  },
  {
   "cell_type": "code",
   "execution_count": 10,
   "id": "055f3194-8265-4b1d-ad46-74ccc002608e",
   "metadata": {},
   "outputs": [
    {
     "name": "stdout",
     "output_type": "stream",
     "text": [
      "d = [ 36.59259259 112.45528455  37.48509485 120.27826087] mkm\n",
      "d_err = [0.36592593 1.12455285 0.37485095 1.20278261] mkm\n"
     ]
    }
   ],
   "source": [
    "d_D_raw = []\n",
    "d_D_raw_err = []\n",
    "\n",
    "d_D_raw.append(2*setup.lambd * setup.F1/ (up2_D[0]))\n",
    "d_D_raw_err.append(d_D_raw[len(d_D_raw) - 1] * setup.D_err)\n",
    "\n",
    "d_D_raw.append(2*setup.lambd * setup.F1 / (up3_D[0]))\n",
    "d_D_raw_err.append(d_D_raw[len(d_D_raw) - 1] * setup.D_err)\n",
    "\n",
    "d_D_raw.append(2*setup.lambd * setup.F1 / (down2_D[0]))\n",
    "d_D_raw_err.append(d_D_raw[len(d_D_raw) - 1] * setup.D_err)\n",
    "\n",
    "d_D_raw.append(2*setup.lambd * setup.F1 / (down3_D[0]))\n",
    "d_D_raw_err.append(d_D_raw[len(d_D_raw) - 1] * setup.D_err)\n",
    "\n",
    "d_D = np.array(d_D_raw)\n",
    "print(f\"d = {d_D * 10**6 } mkm\")\n",
    "\n",
    "d_D_err = np.array(d_D_raw_err)\n",
    "print(f\"d_err = {d_D_err * 10**6 } mkm\")"
   ]
  },
  {
   "cell_type": "code",
   "execution_count": 11,
   "id": "ecd53df3-362c-44ba-897d-c35cf259f30b",
   "metadata": {},
   "outputs": [
    {
     "data": {
      "text/plain": [
       "array([3.78, 1.23, 3.69, 1.15])"
      ]
     },
     "execution_count": 11,
     "metadata": {},
     "output_type": "execute_result"
    }
   ],
   "source": [
    "D_raw = [up2_D[0], up3_D[0], down2_D[0], down3_D[0]]\n",
    "D = np.array(D_raw)\n",
    "D"
   ]
  },
  {
   "cell_type": "code",
   "execution_count": 13,
   "id": "464382be-04b2-480a-9e8e-b7916c14e524",
   "metadata": {},
   "outputs": [
    {
     "name": "stdout",
     "output_type": "stream",
     "text": [
      "d = [24.2        48.4        24.06429907 48.76666667] mkm\n",
      "k, k_err, r 42.455328660056885 1.8092765927532546 0.998188808460596\n"
     ]
    },
    {
     "data": {
      "image/png": "[encoded data removed]",
      "text/plain": [
       "<Figure size 640x480 with 1 Axes>"
      ]
     },
     "metadata": {},
     "output_type": "display_data"
    }
   ],
   "source": [
    "d_without_1up_down = np.append(d[1:3], d[4:6])\n",
    "d_err_without_1up_down = np.append(d_err[1:3], d_err[4:6])\n",
    "\n",
    "print(f\"d = {d_without_1up_down * 10**6} mkm\")\n",
    "\n",
    "mipt.plot(1 / D, d_without_1up_down * 10**6)\n",
    "\n",
    "mnk_data = mipt.mnk(1 / D, d_without_1up_down * 10**6)\n",
    "k = mnk_data.get_data()[\"a\"][0]\n",
    "k_err = mnk_data.get_data()[\"da\"][0]\n",
    "\n",
    "r = mnk_data.get_data()[\"r\"][0]\n",
    "\n",
    "print(\"k, k_err, r\", k, k_err, r)\n",
    "plt.ylabel(r\"$d, \\text{мкм}$\")\n",
    "plt.xlabel(r\"$1 / D, \\text{мм}^{-1}$\")\n",
    "plt.minorticks_on()\n",
    "plt.grid(which = \"minor\", linewidth = 0.1)\n",
    "plt.grid(which = \"major\", linewidth = 0.3)\n",
    "plt.grid(color = 'black', linestyle = '--', which = \"both\")\n",
    "plt.axvline(x = 0, ymin = -1, ymax = 100, color = 'black', linestyle = '--', linewidth = 0.5)\n",
    "plt.title(\"Зависимость периодов спектров от обратной к ширине щели.\")\n",
    "\n",
    "\n",
    "plt.savefig('gen/d_D.png')\n",
    "plt.show()"
   ]
  },
  {
   "cell_type": "code",
   "execution_count": null,
   "id": "e8d2644c-0c75-4c52-ab1a-aac3d0b338ef",
   "metadata": {},
   "outputs": [],
   "source": []
  }
 ],
 "metadata": {
  "kernelspec": {
   "display_name": "Python 3 (ipykernel)",
   "language": "python",
   "name": "python3"
  },
  "language_info": {
   "codemirror_mode": {
    "name": "ipython",
    "version": 3
   },
   "file_extension": ".py",
   "mimetype": "text/x-python",
   "name": "python",
   "nbconvert_exporter": "python",
   "pygments_lexer": "ipython3",
   "version": "3.11.7"
  }
 },
 "nbformat": 4,
 "nbformat_minor": 5
}
