{
 "cells": [
  {
   "cell_type": "code",
   "execution_count": 1,
   "id": "df1e5a4e-2d0e-4245-885a-ad3efcca6dce",
   "metadata": {},
   "outputs": [],
   "source": [
    "import numpy as np\n",
    "import pandas as pd\n",
    "import matplotlib.pyplot as plt\n",
    "import matplotlib.ticker as ticker\n",
    "import math\n",
    "import scipy as sp\n",
    "import scipy.optimize as op\n",
    "from scipy.interpolate import UnivariateSpline\n",
    "import copy\n",
    "import os\n",
    "\n",
    "# Adding library directory to python search path\n",
    "import sys\n",
    "import git\n",
    "repo = git.Repo('.', search_parent_directories=True)\n",
    "library_dir = repo.working_tree_dir + '/lib'\n",
    "sys.path.insert(0, library_dir)\n",
    "\n",
    "import miptlib as mipt\n",
    "\n",
    "# Create directory for generated .tex and .pdf\n",
    "if not os.path.exists('gen'):\n",
    "    os.mkdir('gen')"
   ]
  },
  {
   "cell_type": "code",
   "execution_count": 28,
   "id": "bbb2a84f-818e-43cd-9525-f73f88b12bf3",
   "metadata": {},
   "outputs": [],
   "source": [
    "class setup:\n",
    "    lambda_hg = 5461e-7     # mili meters\n",
    "    lambda_na = 5893e-7 \n",
    "    avr_lambda_hg = 5780e-7 # mili meters\n",
    "    avr_lambda_na = lambda_na\n",
    "    d_err = 0.002           # mili meters\n",
    "    d2_err = 2 * d_err      # mili meters\n",
    "    f_hg = 110              # mili meters\n",
    "    f_0_hg = 50             # mili meters\n",
    "    f_na = 94               # mili meters\n",
    "    \n",
    "    L = 0.1\n",
    "    lambda_grn = 5600e-7\n",
    "    lambda_ylw = 5800e-7\n",
    "    r = 0.85"
   ]
  },
  {
   "cell_type": "code",
   "execution_count": 3,
   "id": "b4a592d5-2f5d-4c08-8eae-0bc9bc3b393d",
   "metadata": {},
   "outputs": [
    {
     "data": {
      "text/html": [
       "<div>\n",
       "<style scoped>\n",
       "    .dataframe tbody tr th:only-of-type {\n",
       "        vertical-align: middle;\n",
       "    }\n",
       "\n",
       "    .dataframe tbody tr th {\n",
       "        vertical-align: top;\n",
       "    }\n",
       "\n",
       "    .dataframe thead th {\n",
       "        text-align: right;\n",
       "    }\n",
       "</style>\n",
       "<table border=\"1\" class=\"dataframe\">\n",
       "  <thead>\n",
       "    <tr style=\"text-align: right;\">\n",
       "      <th></th>\n",
       "      <th>Unnamed: 2</th>\n",
       "      <th>Unnamed: 6</th>\n",
       "      <th>Unnamed: 8</th>\n",
       "      <th>Unnamed: 14</th>\n",
       "      <th>Unnamed: 16</th>\n",
       "    </tr>\n",
       "  </thead>\n",
       "  <tbody>\n",
       "    <tr>\n",
       "      <th>2</th>\n",
       "      <td>155.849</td>\n",
       "      <td>157.823</td>\n",
       "      <td>157.416</td>\n",
       "      <td>169.262</td>\n",
       "      <td>169.437</td>\n",
       "    </tr>\n",
       "    <tr>\n",
       "      <th>3</th>\n",
       "      <td>194.612</td>\n",
       "      <td>192.793</td>\n",
       "      <td>193.288</td>\n",
       "      <td>150.432</td>\n",
       "      <td>150.230</td>\n",
       "    </tr>\n",
       "    <tr>\n",
       "      <th>4</th>\n",
       "      <td>157.676</td>\n",
       "      <td>159.780</td>\n",
       "      <td>159.450</td>\n",
       "      <td>168.380</td>\n",
       "      <td>168.639</td>\n",
       "    </tr>\n",
       "    <tr>\n",
       "      <th>5</th>\n",
       "      <td>192.805</td>\n",
       "      <td>190.461</td>\n",
       "      <td>190.969</td>\n",
       "      <td>151.295</td>\n",
       "      <td>151.075</td>\n",
       "    </tr>\n",
       "    <tr>\n",
       "      <th>6</th>\n",
       "      <td>159.610</td>\n",
       "      <td>162.200</td>\n",
       "      <td>161.786</td>\n",
       "      <td>167.309</td>\n",
       "      <td>167.530</td>\n",
       "    </tr>\n",
       "    <tr>\n",
       "      <th>7</th>\n",
       "      <td>190.863</td>\n",
       "      <td>187.900</td>\n",
       "      <td>188.545</td>\n",
       "      <td>152.390</td>\n",
       "      <td>152.152</td>\n",
       "    </tr>\n",
       "    <tr>\n",
       "      <th>8</th>\n",
       "      <td>161.955</td>\n",
       "      <td>165.409</td>\n",
       "      <td>164.848</td>\n",
       "      <td>166.204</td>\n",
       "      <td>166.402</td>\n",
       "    </tr>\n",
       "    <tr>\n",
       "      <th>9</th>\n",
       "      <td>188.446</td>\n",
       "      <td>185.100</td>\n",
       "      <td>185.597</td>\n",
       "      <td>153.500</td>\n",
       "      <td>153.225</td>\n",
       "    </tr>\n",
       "    <tr>\n",
       "      <th>10</th>\n",
       "      <td>164.803</td>\n",
       "      <td>170.671</td>\n",
       "      <td>169.441</td>\n",
       "      <td>164.632</td>\n",
       "      <td>164.834</td>\n",
       "    </tr>\n",
       "    <tr>\n",
       "      <th>11</th>\n",
       "      <td>185.607</td>\n",
       "      <td>179.743</td>\n",
       "      <td>180.910</td>\n",
       "      <td>155.078</td>\n",
       "      <td>154.800</td>\n",
       "    </tr>\n",
       "    <tr>\n",
       "      <th>12</th>\n",
       "      <td>168.709</td>\n",
       "      <td>NaN</td>\n",
       "      <td>NaN</td>\n",
       "      <td>162.501</td>\n",
       "      <td>162.923</td>\n",
       "    </tr>\n",
       "    <tr>\n",
       "      <th>13</th>\n",
       "      <td>181.553</td>\n",
       "      <td>NaN</td>\n",
       "      <td>NaN</td>\n",
       "      <td>157.114</td>\n",
       "      <td>156.785</td>\n",
       "    </tr>\n",
       "  </tbody>\n",
       "</table>\n",
       "</div>"
      ],
      "text/plain": [
       "    Unnamed: 2  Unnamed: 6  Unnamed: 8  Unnamed: 14  Unnamed: 16\n",
       "2      155.849     157.823     157.416      169.262      169.437\n",
       "3      194.612     192.793     193.288      150.432      150.230\n",
       "4      157.676     159.780     159.450      168.380      168.639\n",
       "5      192.805     190.461     190.969      151.295      151.075\n",
       "6      159.610     162.200     161.786      167.309      167.530\n",
       "7      190.863     187.900     188.545      152.390      152.152\n",
       "8      161.955     165.409     164.848      166.204      166.402\n",
       "9      188.446     185.100     185.597      153.500      153.225\n",
       "10     164.803     170.671     169.441      164.632      164.834\n",
       "11     185.607     179.743     180.910      155.078      154.800\n",
       "12     168.709         NaN         NaN      162.501      162.923\n",
       "13     181.553         NaN         NaN      157.114      156.785"
      ]
     },
     "execution_count": 3,
     "metadata": {},
     "output_type": "execute_result"
    }
   ],
   "source": [
    "data = mipt.read_excel('dat/444.xlsx', usecols=['C', 'G', 'I', 'O', 'Q'], nrows=14).dropna(how='all')\n",
    "data"
   ]
  },
  {
   "cell_type": "code",
   "execution_count": 4,
   "id": "c8ecfd8d-60ae-4c78-b83a-33cebdbcd0e1",
   "metadata": {},
   "outputs": [
    {
     "data": {
      "text/html": [
       "<div>\n",
       "<style scoped>\n",
       "    .dataframe tbody tr th:only-of-type {\n",
       "        vertical-align: middle;\n",
       "    }\n",
       "\n",
       "    .dataframe tbody tr th {\n",
       "        vertical-align: top;\n",
       "    }\n",
       "\n",
       "    .dataframe thead th {\n",
       "        text-align: right;\n",
       "    }\n",
       "</style>\n",
       "<table border=\"1\" class=\"dataframe\">\n",
       "  <thead>\n",
       "    <tr style=\"text-align: right;\">\n",
       "      <th></th>\n",
       "      <th>grn</th>\n",
       "      <th>ylw_in</th>\n",
       "      <th>ylw_out</th>\n",
       "      <th>n_ylw_in</th>\n",
       "      <th>n_ylw_out</th>\n",
       "    </tr>\n",
       "  </thead>\n",
       "  <tbody>\n",
       "    <tr>\n",
       "      <th>2</th>\n",
       "      <td>155.849</td>\n",
       "      <td>157.823</td>\n",
       "      <td>157.416</td>\n",
       "      <td>169.262</td>\n",
       "      <td>169.437</td>\n",
       "    </tr>\n",
       "    <tr>\n",
       "      <th>3</th>\n",
       "      <td>194.612</td>\n",
       "      <td>192.793</td>\n",
       "      <td>193.288</td>\n",
       "      <td>150.432</td>\n",
       "      <td>150.230</td>\n",
       "    </tr>\n",
       "    <tr>\n",
       "      <th>4</th>\n",
       "      <td>157.676</td>\n",
       "      <td>159.780</td>\n",
       "      <td>159.450</td>\n",
       "      <td>168.380</td>\n",
       "      <td>168.639</td>\n",
       "    </tr>\n",
       "    <tr>\n",
       "      <th>5</th>\n",
       "      <td>192.805</td>\n",
       "      <td>190.461</td>\n",
       "      <td>190.969</td>\n",
       "      <td>151.295</td>\n",
       "      <td>151.075</td>\n",
       "    </tr>\n",
       "    <tr>\n",
       "      <th>6</th>\n",
       "      <td>159.610</td>\n",
       "      <td>162.200</td>\n",
       "      <td>161.786</td>\n",
       "      <td>167.309</td>\n",
       "      <td>167.530</td>\n",
       "    </tr>\n",
       "    <tr>\n",
       "      <th>7</th>\n",
       "      <td>190.863</td>\n",
       "      <td>187.900</td>\n",
       "      <td>188.545</td>\n",
       "      <td>152.390</td>\n",
       "      <td>152.152</td>\n",
       "    </tr>\n",
       "    <tr>\n",
       "      <th>8</th>\n",
       "      <td>161.955</td>\n",
       "      <td>165.409</td>\n",
       "      <td>164.848</td>\n",
       "      <td>166.204</td>\n",
       "      <td>166.402</td>\n",
       "    </tr>\n",
       "    <tr>\n",
       "      <th>9</th>\n",
       "      <td>188.446</td>\n",
       "      <td>185.100</td>\n",
       "      <td>185.597</td>\n",
       "      <td>153.500</td>\n",
       "      <td>153.225</td>\n",
       "    </tr>\n",
       "    <tr>\n",
       "      <th>10</th>\n",
       "      <td>164.803</td>\n",
       "      <td>170.671</td>\n",
       "      <td>169.441</td>\n",
       "      <td>164.632</td>\n",
       "      <td>164.834</td>\n",
       "    </tr>\n",
       "    <tr>\n",
       "      <th>11</th>\n",
       "      <td>185.607</td>\n",
       "      <td>179.743</td>\n",
       "      <td>180.910</td>\n",
       "      <td>155.078</td>\n",
       "      <td>154.800</td>\n",
       "    </tr>\n",
       "    <tr>\n",
       "      <th>12</th>\n",
       "      <td>168.709</td>\n",
       "      <td>NaN</td>\n",
       "      <td>NaN</td>\n",
       "      <td>162.501</td>\n",
       "      <td>162.923</td>\n",
       "    </tr>\n",
       "    <tr>\n",
       "      <th>13</th>\n",
       "      <td>181.553</td>\n",
       "      <td>NaN</td>\n",
       "      <td>NaN</td>\n",
       "      <td>157.114</td>\n",
       "      <td>156.785</td>\n",
       "    </tr>\n",
       "  </tbody>\n",
       "</table>\n",
       "</div>"
      ],
      "text/plain": [
       "        grn   ylw_in  ylw_out  n_ylw_in  n_ylw_out\n",
       "2   155.849  157.823  157.416   169.262    169.437\n",
       "3   194.612  192.793  193.288   150.432    150.230\n",
       "4   157.676  159.780  159.450   168.380    168.639\n",
       "5   192.805  190.461  190.969   151.295    151.075\n",
       "6   159.610  162.200  161.786   167.309    167.530\n",
       "7   190.863  187.900  188.545   152.390    152.152\n",
       "8   161.955  165.409  164.848   166.204    166.402\n",
       "9   188.446  185.100  185.597   153.500    153.225\n",
       "10  164.803  170.671  169.441   164.632    164.834\n",
       "11  185.607  179.743  180.910   155.078    154.800\n",
       "12  168.709      NaN      NaN   162.501    162.923\n",
       "13  181.553      NaN      NaN   157.114    156.785"
      ]
     },
     "execution_count": 4,
     "metadata": {},
     "output_type": "execute_result"
    }
   ],
   "source": [
    "xsl = {\n",
    "    \"Unnamed: 2\" : \"grn\",\n",
    "    \"Unnamed: 6\" : \"ylw_in\",\n",
    "    \"Unnamed: 8\" : \"ylw_out\",\n",
    "    \"Unnamed: 14\" : \"n_ylw_in\",\n",
    "    \"Unnamed: 16\" : \"n_ylw_out\"\n",
    "}\n",
    "\n",
    "data = mipt.map_excel(data, xsl)\n",
    "data"
   ]
  },
  {
   "cell_type": "code",
   "execution_count": 5,
   "id": "d096139c-b513-4551-a587-f7d4f0374535",
   "metadata": {},
   "outputs": [
    {
     "name": "stdout",
     "output_type": "stream",
     "text": [
      "k_grn, k_grn_err 267.6201933714291 1.0098435827602141\n"
     ]
    },
    {
     "data": {
      "image/png": "[encoded data removed]",
      "text/plain": [
       "<Figure size 640x480 with 1 Axes>"
      ]
     },
     "metadata": {},
     "output_type": "display_data"
    }
   ],
   "source": [
    "grn = data['grn'].dropna()\n",
    "d_grn = []\n",
    "for i in range(len(grn) + 1, 2, -2):\n",
    "    d_grn.append(grn[i] - grn[i-1])\n",
    "\n",
    "d_grn2 = np.asarray([ d_grn[i]*d_grn[i] for i in range(len(d_grn)) ])\n",
    "indexes = np.asarray([ i for i in range(1, len(d_grn2) + 1) ])\n",
    "\n",
    "mipt.plot(indexes, d_grn2, yerr=setup.d2_err)\n",
    "\n",
    "mnk_data = mipt.mnk(indexes, d_grn2)\n",
    "k_grn = mnk_data.get_data()[\"a\"][0]\n",
    "k_grn_err = mnk_data.get_data()[\"da\"][0]\n",
    "\n",
    "print(\"k_grn, k_grn_err\", k_grn, k_grn_err)\n",
    "plt.ylabel(r\"$d_i^2, \\text{мм}^2$\")\n",
    "plt.xlabel(r\"$i$\")\n",
    "plt.grid(color = 'black', linestyle = '--', linewidth = 0.3)\n",
    "plt.axvline(x = 0, ymin = -1, ymax = 100, color = 'black', linestyle = '--', linewidth = 0.5)\n",
    "\n",
    "plt.savefig('gen/d2_green.png')\n",
    "plt.show()"
   ]
  },
  {
   "cell_type": "markdown",
   "id": "a987421c-c715-4ceb-8142-9c1ca06f0bed",
   "metadata": {},
   "source": [
    "$$\\frac{\\lambda}{L} = \\frac{1}{4f^2}k$$\n",
    "$$L = \\frac{\\lambda \\cdot 4f^2}{k}$$"
   ]
  },
  {
   "cell_type": "code",
   "execution_count": 6,
   "id": "804ea31e-bbaf-44ed-a8cc-c3d05cae3c4e",
   "metadata": {},
   "outputs": [
    {
     "name": "stdout",
     "output_type": "stream",
     "text": [
      "Hg L, L_err in mm 0.09876399709238749 0.00037267811301919387\n"
     ]
    }
   ],
   "source": [
    "L_hg = setup.lambda_hg * 4 * setup.f_hg**2 / k_grn\n",
    "L_hg_err = L_hg * k_grn_err / k_grn\n",
    "print(\"Hg L, L_err in mm\", L_hg, L_hg_err)"
   ]
  },
  {
   "cell_type": "code",
   "execution_count": 7,
   "id": "6698a331-935b-4f98-aa51-f23cbccae761",
   "metadata": {},
   "outputs": [],
   "source": [
    "ylw_in = data['ylw_in'].dropna()\n",
    "d_ylw_in = []\n",
    "for i in range(len(ylw_in) + 1, 2, -2):\n",
    "    d_ylw_in.append(ylw_in[i] - ylw_in[i-1])"
   ]
  },
  {
   "cell_type": "code",
   "execution_count": 8,
   "id": "cf2fcf1b-2062-4c2c-a065-ae13d1cd33d9",
   "metadata": {},
   "outputs": [],
   "source": [
    "ylw_out = data['ylw_out'].dropna()\n",
    "d_ylw_out = []\n",
    "for i in range(len(ylw_out) + 1, 2, -2):\n",
    "    d_ylw_out.append(ylw_out[i] - ylw_out[i-1])\n"
   ]
  },
  {
   "cell_type": "code",
   "execution_count": 9,
   "id": "46f7883e-1083-4aa6-ba2c-82da18961ce1",
   "metadata": {},
   "outputs": [
    {
     "name": "stdout",
     "output_type": "stream",
     "text": [
      "errors(delta d, 1/d):  0.004 0.000696183816197731\n",
      "k_ylw, k_ylw_err 30.0611062095773 7.239510204667662\n"
     ]
    },
    {
     "data": {
      "image/png": "[encoded data removed]",
      "text/plain": [
       "<Figure size 640x480 with 1 Axes>"
      ]
     },
     "metadata": {},
     "output_type": "display_data"
    }
   ],
   "source": [
    "d_avr = np.asarray([ (d_ylw_out[i] + d_ylw_in[i])/2 for i in range(len(d_ylw_in)) ])\n",
    "rev_delta_d = np.asarray([ 1/(d_ylw_out[i] - d_ylw_in[i]) for i in range(len(d_ylw_in)) ])\n",
    "\n",
    "# rev_d_err = d_err/d * 1/d\n",
    "delta_d_err = setup.d_err*2\n",
    "rev_d_err = delta_d_err * rev_delta_d[0]**2\n",
    "print(\"errors(delta d, 1/d): \", delta_d_err, rev_d_err)\n",
    "mipt.plot(rev_delta_d, d_avr, yerr=delta_d_err, xerr=rev_d_err)\n",
    "\n",
    "mnk_data_ylw = mipt.mnk(rev_delta_d, d_avr)\n",
    "k_ylw = mnk_data_ylw.get_data()[\"a\"][0]\n",
    "k_ylw_err = mnk_data_ylw.get_data()[\"da\"][0]\n",
    "\n",
    "print(\"k_ylw, k_ylw_err\", k_ylw, k_ylw_err)\n",
    "plt.ylabel(r\"$<d>$, мм\")\n",
    "plt.xlabel(r\"$1/\\Delta d, \\text{мм}^{-1}$\")\n",
    "plt.grid(color = 'black', linestyle = '--', linewidth = 0.3)\n",
    "\n",
    "plt.savefig('gen/d_avr_ylw.png')\n",
    "plt.show()"
   ]
  },
  {
   "cell_type": "markdown",
   "id": "37fd692a-6152-4e04-9520-cb4ae27f9455",
   "metadata": {},
   "source": [
    "$$\\Delta \\lambda = \\frac{\\lambda <d> \\Delta d}{4f^2}$$\n",
    "\n",
    "$$<d> = \\frac{\\Delta \\lambda 4f^2}{\\lambda} \\cdot 1/\\Delta d$$\n",
    "\n",
    "$$\\Delta \\lambda = \\frac{\\lambda k}{4f^2}$$"
   ]
  },
  {
   "cell_type": "code",
   "execution_count": 10,
   "id": "54f933e7-4e6d-40fc-b578-2f2e43550585",
   "metadata": {},
   "outputs": [
    {
     "name": "stdout",
     "output_type": "stream",
     "text": [
      "delta lambda, err (in mm) 3.589942022548694e-07 8.645749641220319e-08\n"
     ]
    }
   ],
   "source": [
    "delta_lambda = k_ylw * setup.avr_lambda_hg / (4*setup.f_hg**2)\n",
    "delta_lambda_err = np.sqrt((k_ylw_err / k_ylw * delta_lambda)**2 + delta_lambda**2 * ((delta_d_err/d_avr[0])**2 + (rev_d_err/rev_delta_d[0])**2) )\n",
    "\n",
    "print(\"delta lambda, err (in mm)\", delta_lambda, delta_lambda_err)"
   ]
  },
  {
   "cell_type": "markdown",
   "id": "77f44955-d183-459d-8a99-dd0b565a39ac",
   "metadata": {},
   "source": [
    "## Na:"
   ]
  },
  {
   "cell_type": "code",
   "execution_count": 11,
   "id": "5ad85928-e86b-4f32-bf31-b8e209f427ee",
   "metadata": {},
   "outputs": [
    {
     "name": "stdout",
     "output_type": "stream",
     "text": [
      "k_n_ylw_in, k_n_ylw_in_err 65.45101505714297 0.5319500338948071\n"
     ]
    },
    {
     "data": {
      "image/png": "[encoded data removed]",
      "text/plain": [
       "<Figure size 640x480 with 1 Axes>"
      ]
     },
     "metadata": {},
     "output_type": "display_data"
    }
   ],
   "source": [
    "n_ylw_in = data['n_ylw_in'].dropna()\n",
    "d_n_ylw_in = []\n",
    "for i in range(len(n_ylw_in) + 1, 2, -2):\n",
    "    d_n_ylw_in.append(n_ylw_in[i] - n_ylw_in[i-1])\n",
    "\n",
    "d_n_ylw_in2 = np.asarray([ d_n_ylw_in[i]*d_n_ylw_in[i] for i in range(len(d_n_ylw_in)) ])\n",
    "indexes = np.asarray([ i for i in range(1, len(d_grn2) + 1) ])\n",
    "\n",
    "mipt.plot(indexes, d_n_ylw_in2, yerr=setup.d2_err)\n",
    "\n",
    "mnk_data = mipt.mnk(indexes, d_n_ylw_in2)\n",
    "k_n_ylw_in = mnk_data.get_data()[\"a\"][0]\n",
    "k_n_ylw_in_err = mnk_data.get_data()[\"da\"][0]\n",
    "\n",
    "print(\"k_n_ylw_in, k_n_ylw_in_err\", k_n_ylw_in, k_n_ylw_in_err)\n",
    "plt.ylabel(r\"$d_i^2, \\text{мм}^2$\")\n",
    "plt.xlabel(r\"$i$\")\n",
    "plt.grid(color = 'black', linestyle = '--', linewidth = 0.3)\n",
    "plt.axvline(x = 0, ymin = -1, ymax = 100, color = 'black', linestyle = '--', linewidth = 0.5)\n",
    "\n",
    "plt.savefig('gen/d2_yellow.png')\n",
    "plt.show()"
   ]
  },
  {
   "cell_type": "code",
   "execution_count": 12,
   "id": "11161967-6dc4-471a-ab68-ff1c24f29f6f",
   "metadata": {},
   "outputs": [
    {
     "name": "stdout",
     "output_type": "stream",
     "text": [
      "na L, L_err in mm 0.3182260684851964 0.0025863673431056606\n"
     ]
    }
   ],
   "source": [
    "L_na = setup.lambda_na * 4 * setup.f_na**2 / k_n_ylw_in\n",
    "L_na_err = L_na * k_n_ylw_in_err / k_n_ylw_in\n",
    "print(\"na L, L_err in mm\", L_na, L_na_err)"
   ]
  },
  {
   "cell_type": "markdown",
   "id": "52d198ac-190f-402b-8be9-8d2cac23cf8c",
   "metadata": {},
   "source": [
    "#### there we have reversed d1 and d2 in xslx (cause we swapped with partner :))"
   ]
  },
  {
   "cell_type": "code",
   "execution_count": 13,
   "id": "01c5b3dc-bac1-4801-82a6-0da30690f61b",
   "metadata": {},
   "outputs": [],
   "source": [
    "n_ylw_in = data['n_ylw_in'].dropna()\n",
    "d_n_ylw_in = []\n",
    "for i in range(len(n_ylw_in) + 1, 2, -2):\n",
    "    d_n_ylw_in.append(- n_ylw_in[i] + n_ylw_in[i-1])"
   ]
  },
  {
   "cell_type": "code",
   "execution_count": 14,
   "id": "44a339d9-f460-4e4d-a297-e8cde191257e",
   "metadata": {},
   "outputs": [],
   "source": [
    "n_ylw_out = data['n_ylw_out'].dropna()\n",
    "d_n_ylw_out = []\n",
    "for i in range(len(n_ylw_out) + 1, 2, -2):\n",
    "    d_n_ylw_out.append(- n_ylw_out[i] + n_ylw_out[i-1])"
   ]
  },
  {
   "cell_type": "code",
   "execution_count": 15,
   "id": "8a4960c5-0ae7-4a12-8fec-51ecf5fe96f0",
   "metadata": {},
   "outputs": [
    {
     "name": "stdout",
     "output_type": "stream",
     "text": [
      "errors(delta d, 1/d):  0.004 0.007092186006762308\n",
      "k_n_ylw, k_n_ylw_err 10.131549192960955 2.8543693887205084\n"
     ]
    },
    {
     "data": {
      "image/png": "[encoded data removed]",
      "text/plain": [
       "<Figure size 640x480 with 1 Axes>"
      ]
     },
     "metadata": {},
     "output_type": "display_data"
    }
   ],
   "source": [
    "n_d_avr = np.asarray([ (d_n_ylw_out[i] + d_n_ylw_in[i])/2 for i in range(len(d_n_ylw_in)) ])\n",
    "n_rev_delta_d = np.asarray([ 1/(d_n_ylw_out[i] - d_n_ylw_in[i]) for i in range(len(d_n_ylw_in)) ])\n",
    "\n",
    "# rev_d_err = d_err/d * 1/d\n",
    "n_delta_d_err = setup.d_err*2\n",
    "n_rev_d_err = n_delta_d_err * n_rev_delta_d[0]**2\n",
    "print(\"errors(delta d, 1/d): \", n_delta_d_err, n_rev_d_err)\n",
    "mipt.plot(n_rev_delta_d, n_d_avr, yerr=n_delta_d_err, xerr=n_rev_d_err)\n",
    "\n",
    "mnk_data_n_ylw = mipt.mnk(n_rev_delta_d, n_d_avr)\n",
    "k_n_ylw = mnk_data_n_ylw.get_data()[\"a\"][0]\n",
    "k_n_ylw_err = mnk_data_n_ylw.get_data()[\"da\"][0]\n",
    "\n",
    "print(\"k_n_ylw, k_n_ylw_err\", k_n_ylw, k_n_ylw_err)\n",
    "plt.ylabel(r\"$<d>$, мм\")\n",
    "plt.xlabel(r\"$1/\\Delta d, \\text{мм}^{-1}$\")\n",
    "plt.grid(color = 'black', linestyle = '--', linewidth = 0.3)\n",
    "# plt.axvline(x = 0, ymin = -1, ymax = 100, color = 'black', linestyle = '--', linewidth = 0.5)\n",
    "\n",
    "plt.savefig('gen/d_avr_n_ylw.png')\n",
    "plt.show()"
   ]
  },
  {
   "cell_type": "code",
   "execution_count": 16,
   "id": "3900342b-08a2-404d-917b-c4fc551b7514",
   "metadata": {},
   "outputs": [
    {
     "name": "stdout",
     "output_type": "stream",
     "text": [
      "n_delta lambda, err (in mm) 1.689260394808706e-07 4.760031569656266e-08\n"
     ]
    }
   ],
   "source": [
    "n_delta_lambda = k_n_ylw * setup.avr_lambda_na / (4*setup.f_na**2)\n",
    "n_delta_lambda_err = np.sqrt((k_n_ylw_err / k_n_ylw * n_delta_lambda)**2 + n_delta_lambda**2 * ((n_delta_d_err/n_d_avr[0])**2 + (n_rev_d_err/n_rev_delta_d[0])**2) )\n",
    "\n",
    "print(\"n_delta lambda, err (in mm)\", n_delta_lambda, n_delta_lambda_err)"
   ]
  },
  {
   "cell_type": "code",
   "execution_count": null,
   "id": "f036d5de-b7be-4f4a-9e63-d61b7d15849e",
   "metadata": {},
   "outputs": [],
   "source": []
  },
  {
   "cell_type": "code",
   "execution_count": 41,
   "id": "023e9b21-1b4e-4aa3-8095-0e059a2aa92c",
   "metadata": {},
   "outputs": [
    {
     "name": "stdout",
     "output_type": "stream",
     "text": [
      "0.525999999999982 1.1670000000000016 0.32900000000000773\n"
     ]
    }
   ],
   "source": [
    "# in mm\n",
    "grn_x1 = 181.665\n",
    "grn_x2 = 181.139\n",
    "\n",
    "ylw_x1 = 179.743\n",
    "ylw_x12 = 170.671\n",
    "ylw_x2 = 180.91\n",
    "\n",
    "n_ylw_x1 = 157.114\n",
    "n_ylw_x12 = 162.501\n",
    "n_ylw_x2 = 156.785\n",
    "\n",
    "grn_dr = grn_x1 - grn_x2\n",
    "ylw_dr = ylw_x2 - ylw_x1\n",
    "n_ylw_dr = n_ylw_x1 - n_ylw_x2\n",
    "\n",
    "ylw_avr_r = (ylw_x1 - ylw_x12)/2\n",
    "n_ylw_avr_r = (n_ylw_x12 - n_ylw_x1)/2\n",
    "\n",
    "print(grn_dr, ylw_dr, n_ylw_dr)"
   ]
  },
  {
   "cell_type": "markdown",
   "id": "e6c2442e-1aca-465f-9097-7be904f8989b",
   "metadata": {},
   "source": [
    "$$D_{\\text{эксп}} = \\frac{\\delta r}{\\Delta \\lambda} $$\n",
    "\n",
    "$$D_{\\text{теор}} = \\frac{f^2}{\\lambda \\cdot r}$$"
   ]
  },
  {
   "cell_type": "code",
   "execution_count": 42,
   "id": "50eb6195-a2c8-44ef-9785-2ce5ae8446f3",
   "metadata": {},
   "outputs": [
    {
     "name": "stdout",
     "output_type": "stream",
     "text": [
      "Hg D_exp D_exp_err  3250748.8774748654 782906.0293636189\n"
     ]
    }
   ],
   "source": [
    "d_hg_exp = ylw_dr / delta_lambda\n",
    "d_hg_exp_err = d_hg_exp * np.sqrt((setup.d_err/ylw_dr)**2 + (delta_lambda_err/delta_lambda)**2)\n",
    "\n",
    "print(\"Hg D_exp D_exp_err \", d_hg_exp, d_hg_exp_err)"
   ]
  },
  {
   "cell_type": "code",
   "execution_count": 43,
   "id": "17f690cf-aa8a-46cc-82d4-fe94d7e0b903",
   "metadata": {},
   "outputs": [
    {
     "name": "stdout",
     "output_type": "stream",
     "text": [
      "Hg D_th D_th_err  4884725.32664683 2153.758962366326\n"
     ]
    }
   ],
   "source": [
    "d_hg_th = setup.f_hg**2 / (setup.lambda_hg * ylw_avr_r)\n",
    "d_hg_th_err = d_hg_th * setup.d_err/ylw_avr_r\n",
    "\n",
    "print(\"Hg D_th D_th_err \", d_hg_th, d_hg_th_err)"
   ]
  },
  {
   "cell_type": "code",
   "execution_count": 44,
   "id": "b3f443e3-10f7-431f-97b2-e9ae24981c5f",
   "metadata": {},
   "outputs": [
    {
     "name": "stdout",
     "output_type": "stream",
     "text": [
      "Na D_exp D_exp_err  1947597.9014902797 548925.7088426283\n"
     ]
    }
   ],
   "source": [
    "d_n_exp = n_ylw_dr / n_delta_lambda\n",
    "d_n_exp_err = d_n_exp * np.sqrt((setup.d_err/n_ylw_dr)**2 + (n_delta_lambda_err/n_delta_lambda)**2)\n",
    "\n",
    "print(\"Na D_exp D_exp_err \", d_n_exp, d_n_exp_err)"
   ]
  },
  {
   "cell_type": "code",
   "execution_count": 45,
   "id": "d75d1de1-0a3c-4c13-8b20-83e0bff09dc5",
   "metadata": {},
   "outputs": [
    {
     "name": "stdout",
     "output_type": "stream",
     "text": [
      "Hg D_th D_th_err  5566757.286074781 4133.4748736400825\n"
     ]
    }
   ],
   "source": [
    "d_na_th = setup.f_na**2 / (setup.lambda_na * n_ylw_avr_r)\n",
    "d_na_th_err = d_na_th * setup.d_err/n_ylw_avr_r\n",
    "\n",
    "print(\"Hg D_th D_th_err \", d_na_th, d_na_th_err)"
   ]
  },
  {
   "cell_type": "markdown",
   "id": "a3b9f3a4-2728-4f4d-a4dd-0dcc908ce054",
   "metadata": {},
   "source": [
    "$$R_{апп} \\approx \\frac{4f^2}{d\\cdot \\delta r}$$\n"
   ]
  },
  {
   "cell_type": "code",
   "execution_count": 60,
   "id": "c1fbb33c-4416-4927-8169-88a1359d7d08",
   "metadata": {},
   "outputs": [
    {
     "name": "stdout",
     "output_type": "stream",
     "text": [
      "7164.061750660112 4571.634106052836 19942.18886737867\n"
     ]
    }
   ],
   "source": [
    "# R in meters\n",
    "R_app_grn   = 4*setup.f_hg**2 / (d_grn[0]*grn_dr)\n",
    "R_app_ylw   = 4*setup.f_hg**2 / (d_ylw_in[0]*ylw_dr)\n",
    "R_app_n_ylw = 4*setup.f_na**2 / (d_n_ylw_in[0]*n_ylw_dr)\n",
    "\n",
    "print(R_app_grn, R_app_ylw, R_app_n_ylw)"
   ]
  },
  {
   "cell_type": "markdown",
   "id": "06406ddf-7379-46e4-8ed6-7a5f31150412",
   "metadata": {},
   "source": [
    "$$m = \\frac{2L}{\\lambda}$$"
   ]
  },
  {
   "cell_type": "code",
   "execution_count": 61,
   "id": "8b6d7340-5a98-48a6-84e5-cc439f7b24c1",
   "metadata": {},
   "outputs": [
    {
     "name": "stdout",
     "output_type": "stream",
     "text": [
      "357.14285714285717 344.82758620689657\n"
     ]
    }
   ],
   "source": [
    "m_max_grn = 2*setup.L/setup.lambda_grn\n",
    "m_max_ylw = 2*setup.L/setup.lambda_ylw\n",
    "\n",
    "print(m_max_grn, m_max_ylw)"
   ]
  },
  {
   "cell_type": "markdown",
   "id": "e998f8d5-bdf0-41d5-bde5-d415a697dac8",
   "metadata": {},
   "source": [
    "$$R_{\\text{апп}} = m\\cdot N$$"
   ]
  },
  {
   "cell_type": "code",
   "execution_count": 62,
   "id": "f3f98817-12f5-41ca-885c-f5510d391d69",
   "metadata": {},
   "outputs": [
    {
     "name": "stdout",
     "output_type": "stream",
     "text": [
      "20.059372901848313 13.257738907553223 57.83234771539814\n"
     ]
    }
   ],
   "source": [
    "N_grn = R_app_grn / m_max_grn\n",
    "N_ylw = R_app_ylw / m_max_ylw\n",
    "N_n_ylw = R_app_n_ylw / m_max_ylw\n",
    "\n",
    "print(N_grn, N_ylw, N_n_ylw)"
   ]
  },
  {
   "cell_type": "markdown",
   "id": "00c5fa91-bbc0-4b7a-b363-bbc4b31c2749",
   "metadata": {},
   "source": [
    "$$R = \\frac{\\lambda}{\\delta \\lambda} = \\frac{\\pi \\sqrt{r}}{1 -r}m$$\n",
    "\n",
    "$$Q = \\frac{2\\pi L}{\\lambda(1 - r)}$$"
   ]
  },
  {
   "cell_type": "code",
   "execution_count": 63,
   "id": "4bb90f46-b915-48e3-ae42-2cee122503a8",
   "metadata": {},
   "outputs": [
    {
     "name": "stdout",
     "output_type": "stream",
     "text": [
      "Yellow: Q_hg, Q_na 7132.787303554211 22982.45238928403\n"
     ]
    }
   ],
   "source": [
    "Q_hg = 2*np.pi*L_hg/(setup.lambda_ylw*(1 - setup.r))\n",
    "Q_na = 2*np.pi*L_na/(setup.lambda_ylw*(1 - setup.r))\n",
    "\n",
    "print(\"Yellow: Q_hg, Q_na\", Q_hg, Q_na)"
   ]
  },
  {
   "cell_type": "code",
   "execution_count": 65,
   "id": "c474a71d-f931-4b30-a76e-59e98fd7d018",
   "metadata": {},
   "outputs": [
    {
     "name": "stdout",
     "output_type": "stream",
     "text": [
      "Yellow: N_hg, N_na 20.68508318030721 66.64911192892369\n"
     ]
    }
   ],
   "source": [
    "N_hg = Q_hg / m_max_ylw\n",
    "N_na = Q_na / m_max_ylw\n",
    "\n",
    "print(\"Yellow: N_hg, N_na\", N_hg, N_na)"
   ]
  },
  {
   "cell_type": "code",
   "execution_count": null,
   "id": "aa986167-3e29-4c37-8104-29dd5c59500d",
   "metadata": {},
   "outputs": [],
   "source": []
  }
 ],
 "metadata": {
  "kernelspec": {
   "display_name": "Python 3 (ipykernel)",
   "language": "python",
   "name": "python3"
  },
  "language_info": {
   "codemirror_mode": {
    "name": "ipython",
    "version": 3
   },
   "file_extension": ".py",
   "mimetype": "text/x-python",
   "name": "python",
   "nbconvert_exporter": "python",
   "pygments_lexer": "ipython3",
   "version": "3.11.6"
  }
 },
 "nbformat": 4,
 "nbformat_minor": 5
}
