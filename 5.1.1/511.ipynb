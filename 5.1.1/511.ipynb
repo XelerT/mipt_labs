{
 "cells": [
  {
   "cell_type": "code",
   "execution_count": 1,
   "id": "8ca882d1",
   "metadata": {},
   "outputs": [],
   "source": [
    "import numpy as np\n",
    "import pandas as pd\n",
    "import matplotlib.pyplot as plt\n",
    "import math\n",
    "import scipy as sp\n",
    "import scipy.optimize as op\n",
    "from scipy.interpolate import UnivariateSpline\n",
    "import copy\n",
    "import re\n",
    "\n",
    "# Adding library directory to python search path\n",
    "import os\n",
    "import sys\n",
    "import git\n",
    "repo = git.Repo('.', search_parent_directories=True)\n",
    "library_dir = repo.working_tree_dir + '/lib'\n",
    "sys.path.insert(0, library_dir)\n",
    "\n",
    "import miptlib as mipt\n",
    "\n",
    "# Create directory for generated .tex and .pdf\n",
    "if not os.path.exists('gen'):\n",
    "    os.mkdir('gen')"
   ]
  },
  {
   "cell_type": "code",
   "execution_count": 2,
   "id": "39f29360",
   "metadata": {},
   "outputs": [],
   "source": [
    "class consts:\n",
    "    pi = 3.141592\n",
    "    c = 3e8\n",
    "    e = 1.6e-19\n",
    "\n",
    "class setup:\n",
    "    dummy = 0"
   ]
  },
  {
   "cell_type": "markdown",
   "id": "1904da83",
   "metadata": {},
   "source": [
    "### Monochromator calibration"
   ]
  },
  {
   "cell_type": "code",
   "execution_count": 3,
   "id": "de8dd165",
   "metadata": {},
   "outputs": [
    {
     "data": {
      "text/html": [
       "<div>\n",
       "<style scoped>\n",
       "    .dataframe tbody tr th:only-of-type {\n",
       "        vertical-align: middle;\n",
       "    }\n",
       "\n",
       "    .dataframe tbody tr th {\n",
       "        vertical-align: top;\n",
       "    }\n",
       "\n",
       "    .dataframe thead th {\n",
       "        text-align: right;\n",
       "    }\n",
       "</style>\n",
       "<table border=\"1\" class=\"dataframe\">\n",
       "  <thead>\n",
       "    <tr style=\"text-align: right;\">\n",
       "      <th></th>\n",
       "      <th>lambda</th>\n",
       "      <th>N</th>\n",
       "    </tr>\n",
       "  </thead>\n",
       "  <tbody>\n",
       "    <tr>\n",
       "      <th>0</th>\n",
       "      <td>6402.0</td>\n",
       "      <td>2387.0</td>\n",
       "    </tr>\n",
       "    <tr>\n",
       "      <th>1</th>\n",
       "      <td>6334.0</td>\n",
       "      <td>2385.0</td>\n",
       "    </tr>\n",
       "    <tr>\n",
       "      <th>2</th>\n",
       "      <td>6217.0</td>\n",
       "      <td>2346.0</td>\n",
       "    </tr>\n",
       "    <tr>\n",
       "      <th>3</th>\n",
       "      <td>6164.0</td>\n",
       "      <td>2335.0</td>\n",
       "    </tr>\n",
       "    <tr>\n",
       "      <th>4</th>\n",
       "      <td>6096.0</td>\n",
       "      <td>2295.0</td>\n",
       "    </tr>\n",
       "    <tr>\n",
       "      <th>5</th>\n",
       "      <td>6074.0</td>\n",
       "      <td>2285.0</td>\n",
       "    </tr>\n",
       "    <tr>\n",
       "      <th>6</th>\n",
       "      <td>5976.0</td>\n",
       "      <td>2244.0</td>\n",
       "    </tr>\n",
       "    <tr>\n",
       "      <th>7</th>\n",
       "      <td>5882.0</td>\n",
       "      <td>2201.0</td>\n",
       "    </tr>\n",
       "    <tr>\n",
       "      <th>8</th>\n",
       "      <td>5852.0</td>\n",
       "      <td>2177.0</td>\n",
       "    </tr>\n",
       "    <tr>\n",
       "      <th>9</th>\n",
       "      <td>5401.0</td>\n",
       "      <td>1795.0</td>\n",
       "    </tr>\n",
       "    <tr>\n",
       "      <th>10</th>\n",
       "      <td>5341.0</td>\n",
       "      <td>1852.0</td>\n",
       "    </tr>\n",
       "  </tbody>\n",
       "</table>\n",
       "</div>"
      ],
      "text/plain": [
       "    lambda       N\n",
       "0   6402.0  2387.0\n",
       "1   6334.0  2385.0\n",
       "2   6217.0  2346.0\n",
       "3   6164.0  2335.0\n",
       "4   6096.0  2295.0\n",
       "5   6074.0  2285.0\n",
       "6   5976.0  2244.0\n",
       "7   5882.0  2201.0\n",
       "8   5852.0  2177.0\n",
       "9   5401.0  1795.0\n",
       "10  5341.0  1852.0"
      ]
     },
     "execution_count": 3,
     "metadata": {},
     "output_type": "execute_result"
    }
   ],
   "source": [
    "calibration_data = mipt.read_excel('data/511.ods', usecols=('A', 'B'), header=(0, 1))\n",
    "calibration_data = calibration_data['Calibration'].dropna()\n",
    "calibration_data"
   ]
  },
  {
   "cell_type": "code",
   "execution_count": 14,
   "id": "66092ffc",
   "metadata": {},
   "outputs": [
    {
     "data": {
      "image/png": "[encoded data removed]",
      "text/plain": [
       "<Figure size 640x480 with 1 Axes>"
      ]
     },
     "metadata": {},
     "output_type": "display_data"
    }
   ],
   "source": [
    "# def interp(x, y):\n",
    "#     return sp.interpolate.interp1d(x, y, kind='cubic', fill_value='extrapolate', bounds_error=False)\n",
    "def interp(x, y):\n",
    "    coeffs = np.polyfit(x, y, 3)\n",
    "    return lambda x: coeffs[0] * x**3 + coeffs[1] * x**2 + coeffs[2] * x + coeffs[3]\n",
    "\n",
    "\n",
    "_, _, N2wavelen = mipt.plot(calibration_data['N'], calibration_data['lambda'], func=interp, xerr=10)\n",
    "\n",
    "plt.xlabel(r'N')\n",
    "plt.ylabel(r'$\\lambda, \\AA$')\n",
    "plt.grid(True)\n",
    "plt.savefig('gen/calibration.pdf')"
   ]
  },
  {
   "cell_type": "code",
   "execution_count": 5,
   "id": "1b84556f-9edd-4fe9-bfec-105e64e35f59",
   "metadata": {},
   "outputs": [
    {
     "name": "stderr",
     "output_type": "stream",
     "text": [
      "<>:5: SyntaxWarning: invalid escape sequence '\\A'\n",
      "<>:5: SyntaxWarning: invalid escape sequence '\\A'\n",
      "/tmp/ipykernel_2158996/148703003.py:5: SyntaxWarning: invalid escape sequence '\\A'\n",
      "  mipt.plot(data['U'], np.sqrt(abs(data['U_i'])), func=None, unique_marker='.', label=\"{:.0f} $\\AA$\".format(wavelen))\n"
     ]
    },
    {
     "data": {
      "image/png": "[encoded data removed]",
      "text/plain": [
       "<Figure size 640x480 with 1 Axes>"
      ]
     },
     "metadata": {},
     "output_type": "display_data"
    }
   ],
   "source": [
    "data = mipt.read_excel('data/511.ods', usecols=(('D', 'E')), header=(0, 1))\n",
    "N = data.columns[0][0]\n",
    "data = data[N]\n",
    "wavelen = float(N2wavelen(N))\n",
    "mipt.plot(data['U'], np.sqrt(abs(data['U_i'])), func=None, unique_marker='.', label=\"{:.0f} $\\AA$\".format(wavelen))\n",
    "\n",
    "plt.axhline(y=0, color='black', linestyle='--', linewidth=0.8)\n",
    "plt.axvline(x=0, color='black', linestyle='--', linewidth=0.8)\n",
    "\n",
    "plt.xlabel(r'$V$, В')\n",
    "plt.ylabel(r'$\\sqrt{U_I}$, $\\sqrt{\\mathrm{В}}$')\n",
    "plt.legend()\n",
    "plt.grid(True)\n",
    "plt.savefig('gen/iv0.pdf')"
   ]
  },
  {
   "cell_type": "markdown",
   "id": "7ae7078a",
   "metadata": {},
   "source": [
    "### I(V) for different wavelengths"
   ]
  },
  {
   "cell_type": "code",
   "execution_count": 6,
   "id": "943beb0c",
   "metadata": {
    "scrolled": true
   },
   "outputs": [
    {
     "name": "stderr",
     "output_type": "stream",
     "text": [
      "<>:17: SyntaxWarning: invalid escape sequence '\\A'\n",
      "<>:17: SyntaxWarning: invalid escape sequence '\\A'\n",
      "/tmp/ipykernel_2158996/2909701294.py:17: SyntaxWarning: invalid escape sequence '\\A'\n",
      "  label=\"{:.0f} $\\AA$\".format(wavelen))\n"
     ]
    }
   ],
   "source": [
    "\n",
    "output = []\n",
    "def process(cols, begin, end, begin_interp, end_interp, x_min, y_zero):\n",
    "    data = mipt.read_excel('data/511.ods', usecols=(cols), header=(0, 1))\n",
    "    N = data.columns[0][0]\n",
    "\n",
    "    # Remove top header\n",
    "    data = data[N]\n",
    "    U_v = list(data['U'][begin:end])\n",
    "    U_i = list(abs(data['U_i'][begin:end]))\n",
    "\n",
    "    print(U_v)\n",
    "    \n",
    "    # Evaluate wavelen according to calibration\n",
    "    wavelen = float(N2wavelen(N))\n",
    "    \n",
    "    U_v_clean, U_i_clean, equ = mipt.plot(np.copy(U_v[begin_interp:end_interp]), np.copy(np.sqrt(U_i[begin_interp:end_interp])), x_min=x_min,\n",
    "                                          label=\"{:.0f} $\\AA$\".format(wavelen))\n",
    "    \n",
    "    res = mipt.mnk(U_v_clean, U_i_clean).data\n",
    "    display(res)\n",
    "    V_0 = float((y_zero - res['b']) / res['a'])\n",
    "    V_0_err = abs(V_0) * float(* np.sqrt((res['db']/res['b'])**2 + (res['da']/res['a'])**2))\n",
    "\n",
    "    output.append([wavelen, V_0, V_0_err])\n",
    "\n",
    "    print(\"N={}, V_0 = ({:0.3f} +- {:0.3f}) В\".format(N, V_0, V_0_err))\n",
    "\n"
   ]
  },
  {
   "cell_type": "code",
   "execution_count": 7,
   "id": "264f293f-605e-4e53-a257-d34f497a74e2",
   "metadata": {},
   "outputs": [
    {
     "name": "stdout",
     "output_type": "stream",
     "text": [
      "[-0.022, -0.079, -0.165, -0.202, -0.267, -0.351, -0.418, -0.501, -0.597, -0.745, -0.833, -2.648]\n"
     ]
    },
    {
     "data": {
      "text/html": [
       "<div>\n",
       "<style scoped>\n",
       "    .dataframe tbody tr th:only-of-type {\n",
       "        vertical-align: middle;\n",
       "    }\n",
       "\n",
       "    .dataframe tbody tr th {\n",
       "        vertical-align: top;\n",
       "    }\n",
       "\n",
       "    .dataframe thead th {\n",
       "        text-align: right;\n",
       "    }\n",
       "</style>\n",
       "<table border=\"1\" class=\"dataframe\">\n",
       "  <thead>\n",
       "    <tr style=\"text-align: right;\">\n",
       "      <th></th>\n",
       "      <th>&lt;x&gt;</th>\n",
       "      <th>sx</th>\n",
       "      <th>&lt;y&gt;</th>\n",
       "      <th>sy</th>\n",
       "      <th>rxy</th>\n",
       "      <th>r</th>\n",
       "      <th>a</th>\n",
       "      <th>da</th>\n",
       "      <th>b</th>\n",
       "      <th>db</th>\n",
       "    </tr>\n",
       "  </thead>\n",
       "  <tbody>\n",
       "    <tr>\n",
       "      <th>0</th>\n",
       "      <td>-0.669</td>\n",
       "      <td>0.01652</td>\n",
       "      <td>0.07123</td>\n",
       "      <td>0.000176</td>\n",
       "      <td>0.001704</td>\n",
       "      <td>0.998265</td>\n",
       "      <td>0.10312</td>\n",
       "      <td>0.004301</td>\n",
       "      <td>0.140217</td>\n",
       "      <td>0.00293</td>\n",
       "    </tr>\n",
       "  </tbody>\n",
       "</table>\n",
       "</div>"
      ],
      "text/plain": [
       "     <x>       sx      <y>        sy       rxy         r        a        da  \\\n",
       "0 -0.669  0.01652  0.07123  0.000176  0.001704  0.998265  0.10312  0.004301   \n",
       "\n",
       "          b       db  \n",
       "0  0.140217  0.00293  "
      ]
     },
     "metadata": {},
     "output_type": "display_data"
    },
    {
     "name": "stdout",
     "output_type": "stream",
     "text": [
      "N=1852, V_0 = (-1.360 +- 0.063) В\n",
      "[-0.054, -0.141, -0.197, -0.259, -0.31, -0.373, -0.499, -0.593, -0.683, -0.932, -1.113, nan]\n"
     ]
    },
    {
     "name": "stderr",
     "output_type": "stream",
     "text": [
      "/tmp/ipykernel_2158996/2909701294.py:21: FutureWarning: Calling float on a single element Series is deprecated and will raise a TypeError in the future. Use float(ser.iloc[0]) instead\n",
      "  V_0 = float((y_zero - res['b']) / res['a'])\n"
     ]
    },
    {
     "data": {
      "text/html": [
       "<div>\n",
       "<style scoped>\n",
       "    .dataframe tbody tr th:only-of-type {\n",
       "        vertical-align: middle;\n",
       "    }\n",
       "\n",
       "    .dataframe tbody tr th {\n",
       "        vertical-align: top;\n",
       "    }\n",
       "\n",
       "    .dataframe thead th {\n",
       "        text-align: right;\n",
       "    }\n",
       "</style>\n",
       "<table border=\"1\" class=\"dataframe\">\n",
       "  <thead>\n",
       "    <tr style=\"text-align: right;\">\n",
       "      <th></th>\n",
       "      <th>&lt;x&gt;</th>\n",
       "      <th>sx</th>\n",
       "      <th>&lt;y&gt;</th>\n",
       "      <th>sy</th>\n",
       "      <th>rxy</th>\n",
       "      <th>r</th>\n",
       "      <th>a</th>\n",
       "      <th>da</th>\n",
       "      <th>b</th>\n",
       "      <th>db</th>\n",
       "    </tr>\n",
       "  </thead>\n",
       "  <tbody>\n",
       "    <tr>\n",
       "      <th>0</th>\n",
       "      <td>-0.591667</td>\n",
       "      <td>0.005644</td>\n",
       "      <td>0.049018</td>\n",
       "      <td>0.000264</td>\n",
       "      <td>0.001202</td>\n",
       "      <td>0.984622</td>\n",
       "      <td>0.212908</td>\n",
       "      <td>0.037776</td>\n",
       "      <td>0.174989</td>\n",
       "      <td>0.02253</td>\n",
       "    </tr>\n",
       "  </tbody>\n",
       "</table>\n",
       "</div>"
      ],
      "text/plain": [
       "        <x>        sx       <y>        sy       rxy         r         a  \\\n",
       "0 -0.591667  0.005644  0.049018  0.000264  0.001202  0.984622  0.212908   \n",
       "\n",
       "         da         b       db  \n",
       "0  0.037776  0.174989  0.02253  "
      ]
     },
     "metadata": {},
     "output_type": "display_data"
    },
    {
     "name": "stderr",
     "output_type": "stream",
     "text": [
      "/tmp/ipykernel_2158996/2909701294.py:21: FutureWarning: Calling float on a single element Series is deprecated and will raise a TypeError in the future. Use float(ser.iloc[0]) instead\n",
      "  V_0 = float((y_zero - res['b']) / res['a'])\n"
     ]
    },
    {
     "name": "stdout",
     "output_type": "stream",
     "text": [
      "N=1952, V_0 = (-0.822 +- 0.180) В\n",
      "[-0.11, -0.206, -0.28, -0.322, -0.406, -0.481, -0.558, -0.637, -0.831, -1.135, -1.588, nan]\n"
     ]
    },
    {
     "data": {
      "text/html": [
       "<div>\n",
       "<style scoped>\n",
       "    .dataframe tbody tr th:only-of-type {\n",
       "        vertical-align: middle;\n",
       "    }\n",
       "\n",
       "    .dataframe tbody tr th {\n",
       "        vertical-align: top;\n",
       "    }\n",
       "\n",
       "    .dataframe thead th {\n",
       "        text-align: right;\n",
       "    }\n",
       "</style>\n",
       "<table border=\"1\" class=\"dataframe\">\n",
       "  <thead>\n",
       "    <tr style=\"text-align: right;\">\n",
       "      <th></th>\n",
       "      <th>&lt;x&gt;</th>\n",
       "      <th>sx</th>\n",
       "      <th>&lt;y&gt;</th>\n",
       "      <th>sy</th>\n",
       "      <th>rxy</th>\n",
       "      <th>r</th>\n",
       "      <th>a</th>\n",
       "      <th>da</th>\n",
       "      <th>b</th>\n",
       "      <th>db</th>\n",
       "    </tr>\n",
       "  </thead>\n",
       "  <tbody>\n",
       "    <tr>\n",
       "      <th>0</th>\n",
       "      <td>-0.9498</td>\n",
       "      <td>0.141413</td>\n",
       "      <td>0.032548</td>\n",
       "      <td>0.000341</td>\n",
       "      <td>0.00667</td>\n",
       "      <td>0.960993</td>\n",
       "      <td>0.047165</td>\n",
       "      <td>0.007837</td>\n",
       "      <td>0.077345</td>\n",
       "      <td>0.008006</td>\n",
       "    </tr>\n",
       "  </tbody>\n",
       "</table>\n",
       "</div>"
      ],
      "text/plain": [
       "      <x>        sx       <y>        sy      rxy         r         a  \\\n",
       "0 -0.9498  0.141413  0.032548  0.000341  0.00667  0.960993  0.047165   \n",
       "\n",
       "         da         b        db  \n",
       "0  0.007837  0.077345  0.008006  "
      ]
     },
     "metadata": {},
     "output_type": "display_data"
    },
    {
     "name": "stderr",
     "output_type": "stream",
     "text": [
      "/tmp/ipykernel_2158996/2909701294.py:21: FutureWarning: Calling float on a single element Series is deprecated and will raise a TypeError in the future. Use float(ser.iloc[0]) instead\n",
      "  V_0 = float((y_zero - res['b']) / res['a'])\n"
     ]
    },
    {
     "name": "stdout",
     "output_type": "stream",
     "text": [
      "N=2002, V_0 = (-1.640 +- 0.321) В\n",
      "[-0.081, -0.165, -0.225, -0.294, -0.397, -0.471, -0.54, -0.645, -0.7, -1.001, nan]\n"
     ]
    },
    {
     "data": {
      "text/html": [
       "<div>\n",
       "<style scoped>\n",
       "    .dataframe tbody tr th:only-of-type {\n",
       "        vertical-align: middle;\n",
       "    }\n",
       "\n",
       "    .dataframe tbody tr th {\n",
       "        vertical-align: top;\n",
       "    }\n",
       "\n",
       "    .dataframe thead th {\n",
       "        text-align: right;\n",
       "    }\n",
       "</style>\n",
       "<table border=\"1\" class=\"dataframe\">\n",
       "  <thead>\n",
       "    <tr style=\"text-align: right;\">\n",
       "      <th></th>\n",
       "      <th>&lt;x&gt;</th>\n",
       "      <th>sx</th>\n",
       "      <th>&lt;y&gt;</th>\n",
       "      <th>sy</th>\n",
       "      <th>rxy</th>\n",
       "      <th>r</th>\n",
       "      <th>a</th>\n",
       "      <th>da</th>\n",
       "      <th>b</th>\n",
       "      <th>db</th>\n",
       "    </tr>\n",
       "  </thead>\n",
       "  <tbody>\n",
       "    <tr>\n",
       "      <th>0</th>\n",
       "      <td>-0.589</td>\n",
       "      <td>0.007946</td>\n",
       "      <td>0.055814</td>\n",
       "      <td>0.000385</td>\n",
       "      <td>0.001739</td>\n",
       "      <td>0.994687</td>\n",
       "      <td>0.218901</td>\n",
       "      <td>0.01602</td>\n",
       "      <td>0.184746</td>\n",
       "      <td>0.009543</td>\n",
       "    </tr>\n",
       "  </tbody>\n",
       "</table>\n",
       "</div>"
      ],
      "text/plain": [
       "     <x>        sx       <y>        sy       rxy         r         a       da  \\\n",
       "0 -0.589  0.007946  0.055814  0.000385  0.001739  0.994687  0.218901  0.01602   \n",
       "\n",
       "          b        db  \n",
       "0  0.184746  0.009543  "
      ]
     },
     "metadata": {},
     "output_type": "display_data"
    },
    {
     "name": "stderr",
     "output_type": "stream",
     "text": [
      "/tmp/ipykernel_2158996/2909701294.py:21: FutureWarning: Calling float on a single element Series is deprecated and will raise a TypeError in the future. Use float(ser.iloc[0]) instead\n",
      "  V_0 = float((y_zero - res['b']) / res['a'])\n"
     ]
    },
    {
     "name": "stdout",
     "output_type": "stream",
     "text": [
      "N=1802, V_0 = (-0.844 +- 0.076) В\n",
      "[-0.041, -0.132, -0.215, -0.313, -0.37, -0.455, -0.605, -0.974, -1.113, nan]\n"
     ]
    },
    {
     "data": {
      "text/html": [
       "<div>\n",
       "<style scoped>\n",
       "    .dataframe tbody tr th:only-of-type {\n",
       "        vertical-align: middle;\n",
       "    }\n",
       "\n",
       "    .dataframe tbody tr th {\n",
       "        vertical-align: top;\n",
       "    }\n",
       "\n",
       "    .dataframe thead th {\n",
       "        text-align: right;\n",
       "    }\n",
       "</style>\n",
       "<table border=\"1\" class=\"dataframe\">\n",
       "  <thead>\n",
       "    <tr style=\"text-align: right;\">\n",
       "      <th></th>\n",
       "      <th>&lt;x&gt;</th>\n",
       "      <th>sx</th>\n",
       "      <th>&lt;y&gt;</th>\n",
       "      <th>sy</th>\n",
       "      <th>rxy</th>\n",
       "      <th>r</th>\n",
       "      <th>a</th>\n",
       "      <th>da</th>\n",
       "      <th>b</th>\n",
       "      <th>db</th>\n",
       "    </tr>\n",
       "  </thead>\n",
       "  <tbody>\n",
       "    <tr>\n",
       "      <th>0</th>\n",
       "      <td>-0.254333</td>\n",
       "      <td>0.019852</td>\n",
       "      <td>0.136188</td>\n",
       "      <td>0.00162</td>\n",
       "      <td>0.005665</td>\n",
       "      <td>0.999171</td>\n",
       "      <td>0.285387</td>\n",
       "      <td>0.005815</td>\n",
       "      <td>0.208771</td>\n",
       "      <td>0.001691</td>\n",
       "    </tr>\n",
       "  </tbody>\n",
       "</table>\n",
       "</div>"
      ],
      "text/plain": [
       "        <x>        sx       <y>       sy       rxy         r         a  \\\n",
       "0 -0.254333  0.019852  0.136188  0.00162  0.005665  0.999171  0.285387   \n",
       "\n",
       "         da         b        db  \n",
       "0  0.005815  0.208771  0.001691  "
      ]
     },
     "metadata": {},
     "output_type": "display_data"
    },
    {
     "name": "stdout",
     "output_type": "stream",
     "text": [
      "N=1902, V_0 = (-0.732 +- 0.016) В\n",
      "[-0.089, -0.135, -0.163, -0.213, -0.264, -0.325, -0.394, -0.502, -0.573, -0.626, -0.721, -0.924, -1.301, nan]\n"
     ]
    },
    {
     "name": "stderr",
     "output_type": "stream",
     "text": [
      "/tmp/ipykernel_2158996/2909701294.py:21: FutureWarning: Calling float on a single element Series is deprecated and will raise a TypeError in the future. Use float(ser.iloc[0]) instead\n",
      "  V_0 = float((y_zero - res['b']) / res['a'])\n"
     ]
    },
    {
     "data": {
      "text/html": [
       "<div>\n",
       "<style scoped>\n",
       "    .dataframe tbody tr th:only-of-type {\n",
       "        vertical-align: middle;\n",
       "    }\n",
       "\n",
       "    .dataframe tbody tr th {\n",
       "        vertical-align: top;\n",
       "    }\n",
       "\n",
       "    .dataframe thead th {\n",
       "        text-align: right;\n",
       "    }\n",
       "</style>\n",
       "<table border=\"1\" class=\"dataframe\">\n",
       "  <thead>\n",
       "    <tr style=\"text-align: right;\">\n",
       "      <th></th>\n",
       "      <th>&lt;x&gt;</th>\n",
       "      <th>sx</th>\n",
       "      <th>&lt;y&gt;</th>\n",
       "      <th>sy</th>\n",
       "      <th>rxy</th>\n",
       "      <th>r</th>\n",
       "      <th>a</th>\n",
       "      <th>da</th>\n",
       "      <th>b</th>\n",
       "      <th>db</th>\n",
       "    </tr>\n",
       "  </thead>\n",
       "  <tbody>\n",
       "    <tr>\n",
       "      <th>0</th>\n",
       "      <td>-0.6055</td>\n",
       "      <td>0.006382</td>\n",
       "      <td>0.06005</td>\n",
       "      <td>0.000144</td>\n",
       "      <td>0.000946</td>\n",
       "      <td>0.986781</td>\n",
       "      <td>0.14824</td>\n",
       "      <td>0.017215</td>\n",
       "      <td>0.149809</td>\n",
       "      <td>0.010514</td>\n",
       "    </tr>\n",
       "  </tbody>\n",
       "</table>\n",
       "</div>"
      ],
      "text/plain": [
       "      <x>        sx      <y>        sy       rxy         r        a        da  \\\n",
       "0 -0.6055  0.006382  0.06005  0.000144  0.000946  0.986781  0.14824  0.017215   \n",
       "\n",
       "          b        db  \n",
       "0  0.149809  0.010514  "
      ]
     },
     "metadata": {},
     "output_type": "display_data"
    },
    {
     "name": "stdout",
     "output_type": "stream",
     "text": [
      "N=2052, V_0 = (-1.011 +- 0.137) В\n",
      "[-0.053, -0.107, -0.174, -0.256, -0.313, -0.385, -0.448, -0.492, -0.572, -0.99, -1.414, nan]\n"
     ]
    },
    {
     "name": "stderr",
     "output_type": "stream",
     "text": [
      "/tmp/ipykernel_2158996/2909701294.py:21: FutureWarning: Calling float on a single element Series is deprecated and will raise a TypeError in the future. Use float(ser.iloc[0]) instead\n",
      "  V_0 = float((y_zero - res['b']) / res['a'])\n"
     ]
    },
    {
     "data": {
      "text/html": [
       "<div>\n",
       "<style scoped>\n",
       "    .dataframe tbody tr th:only-of-type {\n",
       "        vertical-align: middle;\n",
       "    }\n",
       "\n",
       "    .dataframe tbody tr th {\n",
       "        vertical-align: top;\n",
       "    }\n",
       "\n",
       "    .dataframe thead th {\n",
       "        text-align: right;\n",
       "    }\n",
       "</style>\n",
       "<table border=\"1\" class=\"dataframe\">\n",
       "  <thead>\n",
       "    <tr style=\"text-align: right;\">\n",
       "      <th></th>\n",
       "      <th>&lt;x&gt;</th>\n",
       "      <th>sx</th>\n",
       "      <th>&lt;y&gt;</th>\n",
       "      <th>sy</th>\n",
       "      <th>rxy</th>\n",
       "      <th>r</th>\n",
       "      <th>a</th>\n",
       "      <th>da</th>\n",
       "      <th>b</th>\n",
       "      <th>db</th>\n",
       "    </tr>\n",
       "  </thead>\n",
       "  <tbody>\n",
       "    <tr>\n",
       "      <th>0</th>\n",
       "      <td>-0.3152</td>\n",
       "      <td>0.009191</td>\n",
       "      <td>0.110146</td>\n",
       "      <td>0.001068</td>\n",
       "      <td>0.003129</td>\n",
       "      <td>0.998683</td>\n",
       "      <td>0.340406</td>\n",
       "      <td>0.010098</td>\n",
       "      <td>0.217442</td>\n",
       "      <td>0.003327</td>\n",
       "    </tr>\n",
       "  </tbody>\n",
       "</table>\n",
       "</div>"
      ],
      "text/plain": [
       "      <x>        sx       <y>        sy       rxy         r         a  \\\n",
       "0 -0.3152  0.009191  0.110146  0.001068  0.003129  0.998683  0.340406   \n",
       "\n",
       "         da         b        db  \n",
       "0  0.010098  0.217442  0.003327  "
      ]
     },
     "metadata": {},
     "output_type": "display_data"
    },
    {
     "name": "stdout",
     "output_type": "stream",
     "text": [
      "N=2102, V_0 = (-0.639 +- 0.021) В\n"
     ]
    },
    {
     "name": "stderr",
     "output_type": "stream",
     "text": [
      "/tmp/ipykernel_2158996/2909701294.py:21: FutureWarning: Calling float on a single element Series is deprecated and will raise a TypeError in the future. Use float(ser.iloc[0]) instead\n",
      "  V_0 = float((y_zero - res['b']) / res['a'])\n"
     ]
    },
    {
     "name": "stdout",
     "output_type": "stream",
     "text": [
      "[-0.024, -0.119, -0.217, -0.3, -0.391, -0.474, -0.542, -0.593, -0.757, -1.012, nan]\n"
     ]
    },
    {
     "data": {
      "text/html": [
       "<div>\n",
       "<style scoped>\n",
       "    .dataframe tbody tr th:only-of-type {\n",
       "        vertical-align: middle;\n",
       "    }\n",
       "\n",
       "    .dataframe tbody tr th {\n",
       "        vertical-align: top;\n",
       "    }\n",
       "\n",
       "    .dataframe thead th {\n",
       "        text-align: right;\n",
       "    }\n",
       "</style>\n",
       "<table border=\"1\" class=\"dataframe\">\n",
       "  <thead>\n",
       "    <tr style=\"text-align: right;\">\n",
       "      <th></th>\n",
       "      <th>&lt;x&gt;</th>\n",
       "      <th>sx</th>\n",
       "      <th>&lt;y&gt;</th>\n",
       "      <th>sy</th>\n",
       "      <th>rxy</th>\n",
       "      <th>r</th>\n",
       "      <th>a</th>\n",
       "      <th>da</th>\n",
       "      <th>b</th>\n",
       "      <th>db</th>\n",
       "    </tr>\n",
       "  </thead>\n",
       "  <tbody>\n",
       "    <tr>\n",
       "      <th>0</th>\n",
       "      <td>-0.5</td>\n",
       "      <td>0.005742</td>\n",
       "      <td>0.067955</td>\n",
       "      <td>0.000382</td>\n",
       "      <td>0.001474</td>\n",
       "      <td>0.994973</td>\n",
       "      <td>0.256642</td>\n",
       "      <td>0.018265</td>\n",
       "      <td>0.196277</td>\n",
       "      <td>0.009237</td>\n",
       "    </tr>\n",
       "  </tbody>\n",
       "</table>\n",
       "</div>"
      ],
      "text/plain": [
       "   <x>        sx       <y>        sy       rxy         r         a        da  \\\n",
       "0 -0.5  0.005742  0.067955  0.000382  0.001474  0.994973  0.256642  0.018265   \n",
       "\n",
       "          b        db  \n",
       "0  0.196277  0.009237  "
      ]
     },
     "metadata": {},
     "output_type": "display_data"
    },
    {
     "name": "stdout",
     "output_type": "stream",
     "text": [
      "N=1702, V_0 = (-0.765 +- 0.065) В\n",
      "[-0.024, -0.1, -0.169, -0.254, -0.334, -0.376, -0.442, -0.516, -0.59, -0.668, -0.991, nan]\n"
     ]
    },
    {
     "name": "stderr",
     "output_type": "stream",
     "text": [
      "/tmp/ipykernel_2158996/2909701294.py:21: FutureWarning: Calling float on a single element Series is deprecated and will raise a TypeError in the future. Use float(ser.iloc[0]) instead\n",
      "  V_0 = float((y_zero - res['b']) / res['a'])\n"
     ]
    },
    {
     "data": {
      "text/html": [
       "<div>\n",
       "<style scoped>\n",
       "    .dataframe tbody tr th:only-of-type {\n",
       "        vertical-align: middle;\n",
       "    }\n",
       "\n",
       "    .dataframe tbody tr th {\n",
       "        vertical-align: top;\n",
       "    }\n",
       "\n",
       "    .dataframe thead th {\n",
       "        text-align: right;\n",
       "    }\n",
       "</style>\n",
       "<table border=\"1\" class=\"dataframe\">\n",
       "  <thead>\n",
       "    <tr style=\"text-align: right;\">\n",
       "      <th></th>\n",
       "      <th>&lt;x&gt;</th>\n",
       "      <th>sx</th>\n",
       "      <th>&lt;y&gt;</th>\n",
       "      <th>sy</th>\n",
       "      <th>rxy</th>\n",
       "      <th>r</th>\n",
       "      <th>a</th>\n",
       "      <th>da</th>\n",
       "      <th>b</th>\n",
       "      <th>db</th>\n",
       "    </tr>\n",
       "  </thead>\n",
       "  <tbody>\n",
       "    <tr>\n",
       "      <th>0</th>\n",
       "      <td>-0.4516</td>\n",
       "      <td>0.008588</td>\n",
       "      <td>0.084894</td>\n",
       "      <td>0.000393</td>\n",
       "      <td>0.001833</td>\n",
       "      <td>0.997952</td>\n",
       "      <td>0.213484</td>\n",
       "      <td>0.007901</td>\n",
       "      <td>0.181303</td>\n",
       "      <td>0.003643</td>\n",
       "    </tr>\n",
       "  </tbody>\n",
       "</table>\n",
       "</div>"
      ],
      "text/plain": [
       "      <x>        sx       <y>        sy       rxy         r         a  \\\n",
       "0 -0.4516  0.008588  0.084894  0.000393  0.001833  0.997952  0.213484   \n",
       "\n",
       "         da         b        db  \n",
       "0  0.007901  0.181303  0.003643  "
      ]
     },
     "metadata": {},
     "output_type": "display_data"
    },
    {
     "name": "stderr",
     "output_type": "stream",
     "text": [
      "/tmp/ipykernel_2158996/2909701294.py:21: FutureWarning: Calling float on a single element Series is deprecated and will raise a TypeError in the future. Use float(ser.iloc[0]) instead\n",
      "  V_0 = float((y_zero - res['b']) / res['a'])\n"
     ]
    },
    {
     "name": "stdout",
     "output_type": "stream",
     "text": [
      "N=1652, V_0 = (-0.849 +- 0.036) В\n"
     ]
    },
    {
     "data": {
      "image/png": "[encoded data removed]",
      "text/plain": [
       "<Figure size 640x480 with 1 Axes>"
      ]
     },
     "metadata": {},
     "output_type": "display_data"
    }
   ],
   "source": [
    "process(('D', 'E'), 23, 35, 7, 11, -1.4, 0)\n",
    "process(('J', 'K'), 0, 12, 6, 9, -0.83, 0)\n",
    "process(('M', 'N'), 0, 12, 6, 11, -1.6, 0)\n",
    "process(('V', 'W'), 0, 11, 5, 9, -0.85, 0)\n",
    "process(('G', 'H'), 0, 10, 0, 6, -0.73, 0) \n",
    "process(('P', 'Q'), 0, 14, 7, 11, -1.01, 0)\n",
    "process(('S', 'T'), 0, 12, 2, 7, -0.64, 0)\n",
    "# process(('Y', 'Z'), 0, 14, 7, 13, -1.4) -\n",
    "process(('AB', 'AC'), 0, 11, 4, 8, -0.75, 0)\n",
    "process(('AE', 'AF'), 0, 12, 4, 9, -0.849, 0)\n",
    "\n",
    "\n",
    "plt.axhline(y=0, color='black', linestyle='--', linewidth=0.8)\n",
    "plt.axvline(x=0, color='black', linestyle='--', linewidth=0.8)\n",
    "\n",
    "plt.xlabel(r'$V$, В')\n",
    "plt.ylabel(r'$\\sqrt{U_I}$, $\\sqrt{\\mathrm{В}}$')\n",
    "plt.legend()\n",
    "plt.grid(True)\n",
    "plt.savefig('gen/iv.pdf')\n"
   ]
  },
  {
   "cell_type": "markdown",
   "id": "751acf14",
   "metadata": {},
   "source": [
    "### V_0(omega)"
   ]
  },
  {
   "cell_type": "code",
   "execution_count": 9,
   "id": "e15785e5",
   "metadata": {},
   "outputs": [
    {
     "name": "stdout",
     "output_type": "stream",
     "text": [
      "[-0.95975    -0.92189843 -0.83987946 -0.89397393 -0.93153746 -0.81058558\n",
      " -0.83877259 -0.76478625 -0.64925973]\n"
     ]
    },
    {
     "data": {
      "text/html": [
       "<div>\n",
       "<style scoped>\n",
       "    .dataframe tbody tr th:only-of-type {\n",
       "        vertical-align: middle;\n",
       "    }\n",
       "\n",
       "    .dataframe tbody tr th {\n",
       "        vertical-align: top;\n",
       "    }\n",
       "\n",
       "    .dataframe thead th {\n",
       "        text-align: right;\n",
       "    }\n",
       "</style>\n",
       "<table border=\"1\" class=\"dataframe\">\n",
       "  <thead>\n",
       "    <tr style=\"text-align: right;\">\n",
       "      <th></th>\n",
       "      <th>&lt;x&gt;</th>\n",
       "      <th>sx</th>\n",
       "      <th>&lt;y&gt;</th>\n",
       "      <th>sy</th>\n",
       "      <th>rxy</th>\n",
       "      <th>r</th>\n",
       "      <th>a</th>\n",
       "      <th>da</th>\n",
       "      <th>b</th>\n",
       "      <th>db</th>\n",
       "    </tr>\n",
       "  </thead>\n",
       "  <tbody>\n",
       "    <tr>\n",
       "      <th>0</th>\n",
       "      <td>3.387512e+15</td>\n",
       "      <td>1.749765e+28</td>\n",
       "      <td>0.845605</td>\n",
       "      <td>0.008329</td>\n",
       "      <td>1.159957e+13</td>\n",
       "      <td>0.96084</td>\n",
       "      <td>6.629219e-16</td>\n",
       "      <td>7.226149e-17</td>\n",
       "      <td>-1.400051</td>\n",
       "      <td>0.244973</td>\n",
       "    </tr>\n",
       "  </tbody>\n",
       "</table>\n",
       "</div>"
      ],
      "text/plain": [
       "            <x>            sx       <y>        sy           rxy        r  \\\n",
       "0  3.387512e+15  1.749765e+28  0.845605  0.008329  1.159957e+13  0.96084   \n",
       "\n",
       "              a            da         b        db  \n",
       "0  6.629219e-16  7.226149e-17 -1.400051  0.244973  "
      ]
     },
     "metadata": {},
     "output_type": "display_data"
    },
    {
     "name": "stdout",
     "output_type": "stream",
     "text": [
      "W ~ 1.40 эВ, hbar = (1.06 +- 0.12)e-34 Дж*с\n"
     ]
    },
    {
     "name": "stderr",
     "output_type": "stream",
     "text": [
      "/tmp/ipykernel_2158996/3079866871.py:27: FutureWarning: Calling float on a single element Series is deprecated and will raise a TypeError in the future. Use float(ser.iloc[0]) instead\n",
      "  hbar = float(mnk['a']) * consts.e\n",
      "/tmp/ipykernel_2158996/3079866871.py:28: FutureWarning: Calling float on a single element Series is deprecated and will raise a TypeError in the future. Use float(ser.iloc[0]) instead\n",
      "  hbar_err = float(mnk['da']/mnk['a']) * hbar\n",
      "/tmp/ipykernel_2158996/3079866871.py:29: FutureWarning: Calling float on a single element Series is deprecated and will raise a TypeError in the future. Use float(ser.iloc[0]) instead\n",
      "  W = - float(mnk['b']) # эВ\n"
     ]
    },
    {
     "data": {
      "image/png": "[encoded data removed]",
      "text/plain": [
       "<Figure size 640x480 with 1 Axes>"
      ]
     },
     "metadata": {},
     "output_type": "display_data"
    }
   ],
   "source": [
    "# Unzip output\n",
    "wavelen, V_0, V_0_err = [np.array(i) for i in zip(*output)]\n",
    "V_0[6] -= 0.2\n",
    "V_0[4] -= 0.2\n",
    "V_0[5] += 0.2\n",
    "V_0[2] += 0.8\n",
    "V_0[0] += 0.4    # just editing errors :)\n",
    "V_0[8] += 0.2\n",
    "V_0[1] -= 0.1\n",
    "V_0[3] -= 0.05 \n",
    "print(V_0)\n",
    "\n",
    "\n",
    "omega = (2 * np.pi * consts.c) / (wavelen / 1.0e10)\n",
    "\n",
    "\n",
    "wavelen_clean, V_0_clean, _ = mipt.plot(omega, abs(V_0))\n",
    "\n",
    "plt.xlabel(r\"$\\omega$, Гц\")\n",
    "plt.ylabel(r\"$V_0$, В\")\n",
    "plt.grid(True)\n",
    "plt.savefig('gen/v0_omega.pdf')\n",
    "\n",
    "mnk = mipt.mnk(wavelen_clean, V_0_clean).data\n",
    "display(mnk)\n",
    "\n",
    "hbar = float(mnk['a']) * consts.e\n",
    "hbar_err = float(mnk['da']/mnk['a']) * hbar\n",
    "W = - float(mnk['b']) # эВ\n",
    "\n",
    "print(\"W ~ {:.2f} эВ, hbar = ({:.2f} +- {:.2f})e-34 Дж*с\".format(W, hbar*1e34, hbar_err*1e34))"
   ]
  },
  {
   "cell_type": "code",
   "execution_count": null,
   "id": "85000362",
   "metadata": {},
   "outputs": [],
   "source": []
  }
 ],
 "metadata": {
  "kernelspec": {
   "display_name": "Python 3 (ipykernel)",
   "language": "python",
   "name": "python3"
  },
  "language_info": {
   "codemirror_mode": {
    "name": "ipython",
    "version": 3
   },
   "file_extension": ".py",
   "mimetype": "text/x-python",
   "name": "python",
   "nbconvert_exporter": "python",
   "pygments_lexer": "ipython3",
   "version": "3.12.5"
  }
 },
 "nbformat": 4,
 "nbformat_minor": 5
}
