{
 "cells": [
  {
   "cell_type": "code",
   "execution_count": 1,
   "id": "b61f1887-86e0-46eb-bcc9-2512bf5c72c2",
   "metadata": {},
   "outputs": [],
   "source": [
    "import numpy as np\n",
    "import pandas as pd\n",
    "import matplotlib.pyplot as plt\n",
    "import matplotlib.ticker as ticker\n",
    "import math\n",
    "import scipy as sp\n",
    "import scipy.optimize as op\n",
    "from scipy.interpolate import UnivariateSpline\n",
    "import copy\n",
    "import os\n",
    "\n",
    "# Adding library directory to python search path\n",
    "import sys\n",
    "import git\n",
    "repo = git.Repo('.', search_parent_directories=True)\n",
    "library_dir = repo.working_tree_dir + '/lib'\n",
    "sys.path.insert(0, library_dir)\n",
    "\n",
    "import miptlib as mipt\n",
    "\n",
    "# Create directory for generated .tex and .pdf\n",
    "if not os.path.exists('gen'):\n",
    "    os.mkdir('gen')"
   ]
  },
  {
   "cell_type": "code",
   "execution_count": 2,
   "id": "527bb61c-67b0-4779-91cc-898f12184e29",
   "metadata": {},
   "outputs": [],
   "source": [
    "class setup:\n",
    "    z_err = 0.01   # mm\n",
    "    p_err = 10     # mm water height\n",
    "    l = 10         # cm\n",
    "    wmm2Pa = 9.806\n",
    "    wave_l = 650 # nano meters\n",
    "    T = 273 + 22\n",
    "    P = 103000\n",
    "    T_0 = 273\n",
    "    P_0 = 100000\n",
    "    k_b = 1.38e-16\n",
    "    n_0 = 1.0002\n",
    "    n_co2_0 = 1.00045"
   ]
  },
  {
   "cell_type": "code",
   "execution_count": 3,
   "id": "2a535a7b-4c1a-4f92-9b82-09e216dacf18",
   "metadata": {},
   "outputs": [
    {
     "data": {
      "text/html": [
       "<div>\n",
       "<style scoped>\n",
       "    .dataframe tbody tr th:only-of-type {\n",
       "        vertical-align: middle;\n",
       "    }\n",
       "\n",
       "    .dataframe tbody tr th {\n",
       "        vertical-align: top;\n",
       "    }\n",
       "\n",
       "    .dataframe thead th {\n",
       "        text-align: right;\n",
       "    }\n",
       "</style>\n",
       "<table border=\"1\" class=\"dataframe\">\n",
       "  <thead>\n",
       "    <tr style=\"text-align: right;\">\n",
       "      <th></th>\n",
       "      <th>z_m</th>\n",
       "      <th>m</th>\n",
       "      <th>p</th>\n",
       "      <th>z</th>\n",
       "    </tr>\n",
       "  </thead>\n",
       "  <tbody>\n",
       "    <tr>\n",
       "      <th>0</th>\n",
       "      <td>16.32</td>\n",
       "      <td>0</td>\n",
       "      <td>100.0</td>\n",
       "      <td>17.35</td>\n",
       "    </tr>\n",
       "    <tr>\n",
       "      <th>1</th>\n",
       "      <td>16.37</td>\n",
       "      <td>1</td>\n",
       "      <td>0.0</td>\n",
       "      <td>17.34</td>\n",
       "    </tr>\n",
       "    <tr>\n",
       "      <th>2</th>\n",
       "      <td>16.42</td>\n",
       "      <td>2</td>\n",
       "      <td>-100.0</td>\n",
       "      <td>17.32</td>\n",
       "    </tr>\n",
       "    <tr>\n",
       "      <th>3</th>\n",
       "      <td>16.47</td>\n",
       "      <td>3</td>\n",
       "      <td>-200.0</td>\n",
       "      <td>17.29</td>\n",
       "    </tr>\n",
       "    <tr>\n",
       "      <th>4</th>\n",
       "      <td>16.52</td>\n",
       "      <td>4</td>\n",
       "      <td>-300.0</td>\n",
       "      <td>17.27</td>\n",
       "    </tr>\n",
       "    <tr>\n",
       "      <th>5</th>\n",
       "      <td>16.56</td>\n",
       "      <td>5</td>\n",
       "      <td>-400.0</td>\n",
       "      <td>17.25</td>\n",
       "    </tr>\n",
       "    <tr>\n",
       "      <th>6</th>\n",
       "      <td>16.61</td>\n",
       "      <td>6</td>\n",
       "      <td>-500.0</td>\n",
       "      <td>17.23</td>\n",
       "    </tr>\n",
       "    <tr>\n",
       "      <th>7</th>\n",
       "      <td>16.66</td>\n",
       "      <td>7</td>\n",
       "      <td>200.0</td>\n",
       "      <td>17.37</td>\n",
       "    </tr>\n",
       "    <tr>\n",
       "      <th>8</th>\n",
       "      <td>16.71</td>\n",
       "      <td>8</td>\n",
       "      <td>300.0</td>\n",
       "      <td>17.38</td>\n",
       "    </tr>\n",
       "    <tr>\n",
       "      <th>9</th>\n",
       "      <td>16.76</td>\n",
       "      <td>9</td>\n",
       "      <td>350.0</td>\n",
       "      <td>17.40</td>\n",
       "    </tr>\n",
       "    <tr>\n",
       "      <th>10</th>\n",
       "      <td>16.30</td>\n",
       "      <td>-1</td>\n",
       "      <td>500.0</td>\n",
       "      <td>17.43</td>\n",
       "    </tr>\n",
       "    <tr>\n",
       "      <th>11</th>\n",
       "      <td>16.26</td>\n",
       "      <td>-2</td>\n",
       "      <td>600.0</td>\n",
       "      <td>17.45</td>\n",
       "    </tr>\n",
       "    <tr>\n",
       "      <th>12</th>\n",
       "      <td>16.22</td>\n",
       "      <td>-3</td>\n",
       "      <td>700.0</td>\n",
       "      <td>17.47</td>\n",
       "    </tr>\n",
       "    <tr>\n",
       "      <th>13</th>\n",
       "      <td>16.18</td>\n",
       "      <td>-4</td>\n",
       "      <td>750.0</td>\n",
       "      <td>17.48</td>\n",
       "    </tr>\n",
       "    <tr>\n",
       "      <th>14</th>\n",
       "      <td>16.14</td>\n",
       "      <td>-5</td>\n",
       "      <td>NaN</td>\n",
       "      <td>NaN</td>\n",
       "    </tr>\n",
       "    <tr>\n",
       "      <th>15</th>\n",
       "      <td>16.10</td>\n",
       "      <td>-6</td>\n",
       "      <td>NaN</td>\n",
       "      <td>NaN</td>\n",
       "    </tr>\n",
       "  </tbody>\n",
       "</table>\n",
       "</div>"
      ],
      "text/plain": [
       "      z_m  m      p      z\n",
       "0   16.32  0  100.0  17.35\n",
       "1   16.37  1    0.0  17.34\n",
       "2   16.42  2 -100.0  17.32\n",
       "3   16.47  3 -200.0  17.29\n",
       "4   16.52  4 -300.0  17.27\n",
       "5   16.56  5 -400.0  17.25\n",
       "6   16.61  6 -500.0  17.23\n",
       "7   16.66  7  200.0  17.37\n",
       "8   16.71  8  300.0  17.38\n",
       "9   16.76  9  350.0  17.40\n",
       "10  16.30 -1  500.0  17.43\n",
       "11  16.26 -2  600.0  17.45\n",
       "12  16.22 -3  700.0  17.47\n",
       "13  16.18 -4  750.0  17.48\n",
       "14  16.14 -5    NaN    NaN\n",
       "15  16.10 -6    NaN    NaN"
      ]
     },
     "execution_count": 3,
     "metadata": {},
     "output_type": "execute_result"
    }
   ],
   "source": [
    "data = mipt.read_excel('data/4_2_2.xlsx', usecols=['A', 'B', 'C', 'D'], header=(0)).dropna(how='all')\n",
    "data"
   ]
  },
  {
   "cell_type": "code",
   "execution_count": null,
   "id": "9336815d-969c-497f-ae0c-cdd2ec208ab4",
   "metadata": {},
   "outputs": [],
   "source": []
  },
  {
   "cell_type": "code",
   "execution_count": 4,
   "id": "4799fd39-fcee-4b88-b6f6-7cd9264230c6",
   "metadata": {},
   "outputs": [
    {
     "ename": "NameError",
     "evalue": "name 'mipt' is not defined",
     "output_type": "error",
     "traceback": [
      "\u001b[0;31m---------------------------------------------------------------------------\u001b[0m",
      "\u001b[0;31mNameError\u001b[0m                                 Traceback (most recent call last)",
      "Cell \u001b[0;32mIn[4], line 8\u001b[0m\n\u001b[1;32m      1\u001b[0m xsl \u001b[38;5;241m=\u001b[39m {\n\u001b[1;32m      2\u001b[0m     \u001b[38;5;124m\"\u001b[39m\u001b[38;5;124mz_m\u001b[39m\u001b[38;5;124m\"\u001b[39m : \u001b[38;5;124m\"\u001b[39m\u001b[38;5;124mz_m\u001b[39m\u001b[38;5;124m\"\u001b[39m,\n\u001b[1;32m      3\u001b[0m     \u001b[38;5;124m\"\u001b[39m\u001b[38;5;124mm\u001b[39m\u001b[38;5;124m\"\u001b[39m : \u001b[38;5;124m\"\u001b[39m\u001b[38;5;124mm\u001b[39m\u001b[38;5;124m\"\u001b[39m,\n\u001b[1;32m      4\u001b[0m     \u001b[38;5;124m\"\u001b[39m\u001b[38;5;124mp\u001b[39m\u001b[38;5;124m\"\u001b[39m : \u001b[38;5;124m\"\u001b[39m\u001b[38;5;124mp\u001b[39m\u001b[38;5;124m\"\u001b[39m,\n\u001b[1;32m      5\u001b[0m     \u001b[38;5;124m\"\u001b[39m\u001b[38;5;124mz\u001b[39m\u001b[38;5;124m\"\u001b[39m : \u001b[38;5;124m\"\u001b[39m\u001b[38;5;124mz\u001b[39m\u001b[38;5;124m\"\u001b[39m\n\u001b[1;32m      6\u001b[0m }\n\u001b[0;32m----> 8\u001b[0m data \u001b[38;5;241m=\u001b[39m \u001b[43mmipt\u001b[49m\u001b[38;5;241m.\u001b[39mmap_excel(data, xsl)\n\u001b[1;32m      9\u001b[0m data\n",
      "\u001b[0;31mNameError\u001b[0m: name 'mipt' is not defined"
     ]
    }
   ],
   "source": [
    "xsl = {\n",
    "    \"z_m\" : \"z_m\",\n",
    "    \"m\" : \"m\",\n",
    "    \"p\" : \"p\",\n",
    "    \"z\" : \"z\"\n",
    "}\n",
    "\n",
    "data = mipt.map_excel(data, xsl)\n",
    "data"
   ]
  },
  {
   "cell_type": "code",
   "execution_count": 3,
   "id": "7e898a80-87ba-4fe8-aa17-9894fe7e40b1",
   "metadata": {},
   "outputs": [
    {
     "ename": "NameError",
     "evalue": "name 'data' is not defined",
     "output_type": "error",
     "traceback": [
      "\u001b[0;31m---------------------------------------------------------------------------\u001b[0m",
      "\u001b[0;31mNameError\u001b[0m                                 Traceback (most recent call last)",
      "Cell \u001b[0;32mIn[3], line 1\u001b[0m\n\u001b[0;32m----> 1\u001b[0m z_m \u001b[38;5;241m=\u001b[39m \u001b[43mdata\u001b[49m[\u001b[38;5;124m'\u001b[39m\u001b[38;5;124mz_m\u001b[39m\u001b[38;5;124m'\u001b[39m]\u001b[38;5;241m.\u001b[39mdropna()\n\u001b[1;32m      2\u001b[0m m \u001b[38;5;241m=\u001b[39m data[\u001b[38;5;124m'\u001b[39m\u001b[38;5;124mm\u001b[39m\u001b[38;5;124m'\u001b[39m]\u001b[38;5;241m.\u001b[39mdropna()\n\u001b[1;32m      3\u001b[0m mipt\u001b[38;5;241m.\u001b[39mplot(m, z_m, yerr\u001b[38;5;241m=\u001b[39msetup\u001b[38;5;241m.\u001b[39mz_err)\n",
      "\u001b[0;31mNameError\u001b[0m: name 'data' is not defined"
     ]
    }
   ],
   "source": [
    "z_m = data['z_m'].dropna()\n",
    "m = data['m'].dropna()\n",
    "mipt.plot(m, z_m, yerr=setup.z_err)\n",
    "\n",
    "mnk_data = mipt.mnk(m, z_m)\n",
    "k_cal = mnk_data.get_data()[\"a\"][0]\n",
    "k_cal_err = mnk_data.get_data()[\"da\"][0]\n",
    "\n",
    "print(k_cal, k_cal_err)\n",
    "plt.ylabel(r\"$z_m$, мм\")\n",
    "plt.xlabel(r\"$m$\")\n",
    "plt.grid(color = 'black', linestyle = '--', linewidth = 0.3)\n",
    "plt.axvline(x = 0, ymin = -1, ymax = 100, color = 'black', linestyle = '--', linewidth = 0.5)\n",
    "\n",
    "\n",
    "plt.savefig('gen/calibr.png')\n",
    "plt.show()"
   ]
  },
  {
   "cell_type": "code",
   "execution_count": 6,
   "id": "e4370e43-17a2-409a-9790-8e2fbfb5ad85",
   "metadata": {},
   "outputs": [
    {
     "name": "stdout",
     "output_type": "stream",
     "text": [
      "2.0142809659099373e-05 3.3256510493670017e-07\n"
     ]
    },
    {
     "data": {
      "image/png": "[encoded data removed]",
      "text/plain": [
       "<Figure size 640x480 with 1 Axes>"
      ]
     },
     "metadata": {},
     "output_type": "display_data"
    }
   ],
   "source": [
    "dp = (data[\"p\"].dropna() - data[\"p\"][0]) * setup.wmm2Pa\n",
    "z = data[\"z\"].dropna()\n",
    "\n",
    "mipt.plot(dp, z, yerr=setup.z_err)#, xerr=setup.p_err * setup.wmm2Pa)\n",
    "\n",
    "mnk_data = mipt.mnk(dp, z)\n",
    "k_dp = mnk_data.get_data()[\"a\"][0]\n",
    "k_dp_err = mnk_data.get_data()[\"da\"][0]\n",
    "\n",
    "print(k_dp, k_dp_err)\n",
    "plt.ylabel(r\"$z$, мм\")\n",
    "plt.xlabel(r\"$\\Delta P$, Па\")\n",
    "plt.grid(color = 'black', linestyle = '--', linewidth = 0.3)\n",
    "plt.axvline(x = 0, ymin = -1, ymax = 100, color = 'black', linestyle = '--', linewidth = 0.5)\n",
    "\n",
    "\n",
    "plt.savefig('gen/z_dp.png')\n",
    "plt.show()"
   ]
  },
  {
   "cell_type": "markdown",
   "id": "6990e381-4529-47a8-935e-706d3599463c",
   "metadata": {},
   "source": [
    "$$\\delta n = m \\frac{\\lambda}{l} = \\frac{\\Delta z}{k_{cal}} \\cdot \\frac{\\lambda}{l}$$"
   ]
  },
  {
   "cell_type": "markdown",
   "id": "1405cd99-fe46-4ffc-8e96-0aa9a9ea12de",
   "metadata": {},
   "source": [
    "$$1/\\alpha = \\frac{2 \\pi}{k_b \\delta nT} \\Delta P = \\frac{2 \\pi k l}{k_b T \\Delta z \\lambda} \\Delta P = \\frac{2 \\pi k_{cal} l}{k_b T k_{dp} \\lambda}$$"
   ]
  },
  {
   "cell_type": "code",
   "execution_count": 7,
   "id": "bc7f6b6a-4498-4c9b-a575-2893086c0460",
   "metadata": {},
   "outputs": [
    {
     "data": {
      "text/plain": [
       "1.9357411756626483e-23"
      ]
     },
     "execution_count": 7,
     "metadata": {},
     "output_type": "execute_result"
    }
   ],
   "source": [
    "alpha = 1/(2 * np.pi * k_cal * setup.l * 0.01 / (setup.k_b * setup.T * k_dp * setup.wave_l * 10**(-9)))\n",
    "\n",
    "alpha"
   ]
  },
  {
   "cell_type": "code",
   "execution_count": 8,
   "id": "60439a2e-7142-4a44-9b4a-dc76fbaa6c38",
   "metadata": {},
   "outputs": [
    {
     "name": "stdout",
     "output_type": "stream",
     "text": [
      "4.583971860810443e-25 2.368070648309294\n"
     ]
    }
   ],
   "source": [
    "alpha_err = alpha*np.sqrt((k_cal_err/k_cal)**2 + (k_dp_err/k_dp)**2 + (1/setup.T)**2)\n",
    "print(alpha_err, (alpha_err/alpha) * 100)"
   ]
  },
  {
   "cell_type": "markdown",
   "id": "8825139d-f577-425d-ac52-d257b7db9deb",
   "metadata": {},
   "source": [
    "$$n = 1 + 2*\\pi \\alpha * \\frac{P}{k_b T}$$"
   ]
  },
  {
   "cell_type": "code",
   "execution_count": 9,
   "id": "b39183a3-bde8-4756-89fb-e0c8892d477f",
   "metadata": {},
   "outputs": [
    {
     "name": "stdout",
     "output_type": "stream",
     "text": [
      "1.0003077253532013 7.944598558602653e-06 2.581717260522462\n"
     ]
    }
   ],
   "source": [
    "n = 1 + 2* np.pi * alpha * setup.P / (setup.k_b * setup.T)\n",
    "n_err = (n-1)*np.sqrt((alpha_err/alpha)**2 + (1000/setup.P)**2 + (1/setup.T)**2)\n",
    "print(n, n_err, n_err/(n-1) * 100)"
   ]
  },
  {
   "cell_type": "markdown",
   "id": "cc8e6dd1-d494-499c-935e-0d96d23a965a",
   "metadata": {},
   "source": [
    "$$n_0 = \\frac{T P_0}{T_0 P}(n - 1) + 1$$"
   ]
  },
  {
   "cell_type": "code",
   "execution_count": 10,
   "id": "afb6052c-63a7-45ad-8dc2-7371f7ec0464",
   "metadata": {},
   "outputs": [
    {
     "name": "stdout",
     "output_type": "stream",
     "text": [
      "1.0003228385760319 8.971642456801438e-06 2.778987123247463\n"
     ]
    }
   ],
   "source": [
    "n_0 = 1 + setup.T * setup.P_0 * (n - 1) / (setup.T_0 * setup.P)\n",
    "n_0_err = (n_0-1)*np.sqrt((n_err/(n-1))**2 + + (1000/setup.P)**2 + (1/setup.T)**2)\n",
    "print(n_0, n_0_err, (n_0_err/(n_0-1))*100)"
   ]
  },
  {
   "cell_type": "code",
   "execution_count": 11,
   "id": "c292b690-314d-4167-bff7-4a33912203b0",
   "metadata": {},
   "outputs": [
    {
     "data": {
      "text/plain": [
       "0.01227989317996725"
      ]
     },
     "execution_count": 11,
     "metadata": {},
     "output_type": "execute_result"
    }
   ],
   "source": [
    "(1 - setup.n_0/n_0)*100"
   ]
  },
  {
   "cell_type": "markdown",
   "id": "d3cf4c58-02ba-49f5-8aab-e0581c4315e5",
   "metadata": {},
   "source": [
    "$$\\vec{p} = 3V \\cdot \\vec{E} = \\alpha \\vec{E}$$\n"
   ]
  },
  {
   "cell_type": "markdown",
   "id": "800cc1fa-369f-4974-be25-ac406724cb47",
   "metadata": {},
   "source": [
    "$$\\alpha = 3V = 4\\pi r^3$$"
   ]
  },
  {
   "cell_type": "markdown",
   "id": "7042b098-0982-4cf7-bf53-6a0ad525414b",
   "metadata": {},
   "source": [
    "$$r = (\\alpha / 4\\pi)^{1/3}$$"
   ]
  },
  {
   "cell_type": "code",
   "execution_count": 12,
   "id": "69ec7888-d20c-4feb-8abc-247055a0798e",
   "metadata": {},
   "outputs": [
    {
     "data": {
      "text/plain": [
       "1.1549037939559772e-08"
      ]
     },
     "execution_count": 12,
     "metadata": {},
     "output_type": "execute_result"
    }
   ],
   "source": [
    "r = (alpha / (4 * np.pi)) ** (1/3)\n",
    "r"
   ]
  },
  {
   "cell_type": "markdown",
   "id": "85364412-29ab-4d1b-b1fa-31569c803d01",
   "metadata": {},
   "source": [
    "$$n = n_{air} + \\Delta / l$$"
   ]
  },
  {
   "cell_type": "markdown",
   "id": "2305bae2-38c8-4fd8-b4db-88b02552d8b9",
   "metadata": {},
   "source": [
    "$$\\delta n = \\frac{\\Delta z}{k_{cal}} \\cdot \\frac{\\lambda}{l} = n_{CO_2} - n_{air}$$"
   ]
  },
  {
   "cell_type": "code",
   "execution_count": 13,
   "id": "98fa6e23-6f1f-409d-abca-eb77e439c6bb",
   "metadata": {},
   "outputs": [
    {
     "name": "stdout",
     "output_type": "stream",
     "text": [
      "1.0005999199840738 9.774447640398571e-06 1.6292918888989232\n"
     ]
    }
   ],
   "source": [
    "dz = 18.32 - 16.35\n",
    "dn = dz * setup.wave_l * 10**(-9) / (k_cal * setup.l * 10**(-2))\n",
    "dn_err = dn*np.sqrt((0.02 / dz)**2 + (k_cal_err/k_cal)**2)\n",
    "n_co2 = dn + n\n",
    "n_co2_err = np.sqrt(dn_err**2 + n_err**2)\n",
    "print(n_co2, n_co2_err, n_co2_err/(n_co2-1) * 100)"
   ]
  },
  {
   "cell_type": "code",
   "execution_count": 14,
   "id": "be2d09d2-6748-4ce0-bc86-399fad1fcace",
   "metadata": {},
   "outputs": [
    {
     "name": "stdout",
     "output_type": "stream",
     "text": [
      "1.0006293836740345 1.2126212073616332e-05 1.926680429424513\n"
     ]
    }
   ],
   "source": [
    "n_co2_0 = 1 + setup.T * setup.P_0 * (n_co2 - 1) / (setup.T_0 * setup.P)\n",
    "n_co2_0_err = (n_co2_0-1)*np.sqrt((n_co2_err/(n_co2-1))**2 + (1000/setup.P)**2 + (1/setup.T)**2)\n",
    "print(n_co2_0, n_co2_0_err, n_co2_0_err/(n_co2_0-1) *100)"
   ]
  },
  {
   "cell_type": "code",
   "execution_count": 15,
   "id": "0c55bf5f-ddeb-4277-82c9-6b50631f7472",
   "metadata": {},
   "outputs": [
    {
     "data": {
      "text/plain": [
       "0.0179270843892132"
      ]
     },
     "execution_count": 15,
     "metadata": {},
     "output_type": "execute_result"
    }
   ],
   "source": [
    "(1 - setup.n_co2_0/n_co2_0) * 100 "
   ]
  },
  {
   "cell_type": "code",
   "execution_count": null,
   "id": "4d9bd048-7a9b-488a-afbd-14ce089a1d2e",
   "metadata": {},
   "outputs": [],
   "source": []
  }
 ],
 "metadata": {
  "kernelspec": {
   "display_name": "Python 3 (ipykernel)",
   "language": "python",
   "name": "python3"
  },
  "language_info": {
   "codemirror_mode": {
    "name": "ipython",
    "version": 3
   },
   "file_extension": ".py",
   "mimetype": "text/x-python",
   "name": "python",
   "nbconvert_exporter": "python",
   "pygments_lexer": "ipython3",
   "version": "3.11.6"
  }
 },
 "nbformat": 4,
 "nbformat_minor": 5
}
