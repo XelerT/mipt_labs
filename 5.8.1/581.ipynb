{
 "cells": [
  {
   "cell_type": "code",
   "execution_count": 1,
   "id": "8ca882d1",
   "metadata": {},
   "outputs": [],
   "source": [
    "import numpy as np\n",
    "import pandas as pd\n",
    "import matplotlib.pyplot as plt\n",
    "import math\n",
    "import scipy as sp\n",
    "import scipy.optimize as op\n",
    "from scipy.interpolate import UnivariateSpline\n",
    "import copy\n",
    "\n",
    "# Adding library directory to python search path\n",
    "import os\n",
    "import sys\n",
    "import git\n",
    "repo = git.Repo('.', search_parent_directories=True)\n",
    "library_dir = repo.working_tree_dir + '/lib'\n",
    "sys.path.insert(0, library_dir)\n",
    "\n",
    "import miptlib as mipt\n",
    "\n",
    "# Create directory for generated .tex and .pdf\n",
    "if not os.path.exists('gen'):\n",
    "    os.mkdir('gen')"
   ]
  },
  {
   "cell_type": "code",
   "execution_count": 2,
   "id": "39f29360",
   "metadata": {},
   "outputs": [],
   "source": [
    "class consts:\n",
    "    pi = np.pi\n",
    "    k_b = 1.38e-23\n",
    "    c = 3e8\n",
    "\n",
    "class setup:\n",
    "    dummy = 0"
   ]
  },
  {
   "cell_type": "markdown",
   "id": "0aaf749c",
   "metadata": {},
   "source": [
    "## Опробование работы"
   ]
  },
  {
   "cell_type": "code",
   "execution_count": 3,
   "id": "ef43d2aa",
   "metadata": {
    "scrolled": true
   },
   "outputs": [
    {
     "name": "stdout",
     "output_type": "stream",
     "text": [
      "termo coeff= 39.823008849557525\n",
      "$$T_t = (982 \\pm 5) \\;\\;^oC$$\\n\n",
      "$$T_p = (858 \\pm 12) \\;\\;^oC$$\\n\n"
     ]
    }
   ],
   "source": [
    "data = mipt.read_excel('data/5.8.1-raw.xlsx', usecols=(0,1), header=(0)).dropna()\n",
    "data\n",
    "\n",
    "termo_coeff = (47000-29000)/(1168-716)\n",
    "print(\"termo coeff=\", termo_coeff)\n",
    "t_out = 22\n",
    "v = 38.22\n",
    "\n",
    "t_termo = 1e3 * v / termo_coeff + t_out\n",
    "t_termo_error = np.std(t_termo) / math.sqrt(1)\n",
    "\n",
    "tp = 858\n",
    "\n",
    "fmt = {\n",
    "    'tp' : [r'$T_{p}, ^oC$', '{:.1f}', 0],\n",
    "    'v' : [r'$V$, мВ', '{:.1f}', 0],\n",
    "    'tr' : [r'$T_{t}, ^oC$', '{:.1f}', 0],\n",
    "}\n",
    "\n",
    "\n",
    "print(r\"$$T_t = ({:.0f} \\pm {:.0f}) \\;\\;^oC$$\\n\".format(t_termo, 5))\n",
    "print(r\"$$T_p = ({:.0f} \\pm {:.0f}) \\;\\;^oC$$\\n\".format(tp, 12))\n"
   ]
  },
  {
   "cell_type": "code",
   "execution_count": 4,
   "id": "abe6f63b",
   "metadata": {},
   "outputs": [
    {
     "data": {
      "text/plain": [
       "0.12843362986220128"
      ]
     },
     "execution_count": 4,
     "metadata": {},
     "output_type": "execute_result"
    }
   ],
   "source": [
    "v_error = 0.005\n",
    "#v_error / data['v'].mean() * t_termo.mean()\n",
    "v_error / v * t_termo\n",
    "\n"
   ]
  },
  {
   "cell_type": "code",
   "execution_count": 5,
   "id": "982670d1",
   "metadata": {},
   "outputs": [
    {
     "data": {
      "text/plain": [
       "np.float64(0.0)"
      ]
     },
     "execution_count": 5,
     "metadata": {},
     "output_type": "execute_result"
    }
   ],
   "source": [
    "t_termo_error"
   ]
  },
  {
   "cell_type": "markdown",
   "id": "400dae7f",
   "metadata": {},
   "source": [
    "## Стефан-Больцман"
   ]
  },
  {
   "cell_type": "code",
   "execution_count": 6,
   "id": "3a489ae6",
   "metadata": {},
   "outputs": [
    {
     "name": "stdout",
     "output_type": "stream",
     "text": [
      "      Tp      I     V    Teps\n",
      "0    923  0.548  2.01   800.0\n",
      "1    961  0.540  1.92   900.0\n",
      "2   1006  0.578  2.29  1000.0\n",
      "3   1057  0.587  2.38  1100.0\n",
      "4   1120  0.610  2.62  1200.0\n",
      "5   1160  0.661  3.16  1300.0\n",
      "6   1202  0.680  3.37  1400.0\n",
      "7   1242  0.734  3.99  1500.0\n",
      "8   1282  0.763  4.33  1600.0\n",
      "9   1322  0.794  4.71  1700.0\n",
      "10  1356  0.887  5.91  1800.0\n",
      "11  1402  0.987  7.88  1900.0\n",
      "12  1442  1.085  8.88  2000.0\n",
      "13  1482  1.090  8.89     NaN\n",
      "14  1522  1.090  8.98     NaN\n",
      "$$ f_1(T) = (1.09 \\pm 0.03) \\cdot T + (-15 \\pm 20)$$\n"
     ]
    },
    {
     "name": "stderr",
     "output_type": "stream",
     "text": [
      "<>:11: SyntaxWarning: invalid escape sequence '\\p'\n",
      "<>:11: SyntaxWarning: invalid escape sequence '\\p'\n",
      "/tmp/ipykernel_278284/241674920.py:11: SyntaxWarning: invalid escape sequence '\\p'\n",
      "  print('$$ f_1(T) = ({} \\pm {}) \\cdot T + ({} \\pm {})$$'.format(At, At_error, Bt, Bt_error))\n"
     ]
    }
   ],
   "source": [
    "from scipy.interpolate import interp1d\n",
    "\n",
    "data = mipt.read_excel('data/5.8.1-raw.xlsx', usecols=(2,3,4,5), header=(0))\n",
    "print(data)\n",
    "\n",
    "At = 1.09\n",
    "At_error = 0.03\n",
    "Bt = -15\n",
    "Bt_error = 20\n",
    "\n",
    "print('$$ f_1(T) = ({} \\pm {}) \\cdot T + ({} \\pm {})$$'.format(At, At_error, Bt, Bt_error))\n",
    "\n",
    "def br2real(x):\n",
    "    return At * x + Bt\n",
    "\n",
    "T = br2real(data['Tp'] + 273).dropna()\n",
    "W = data['I'] * data['V']"
   ]
  },
  {
   "cell_type": "code",
   "execution_count": 7,
   "id": "877c2cdd",
   "metadata": {
    "scrolled": true
   },
   "outputs": [
    {
     "name": "stdout",
     "output_type": "stream",
     "text": [
      "0     1.10148\n",
      "1     1.03680\n",
      "2     1.32362\n",
      "3     1.39706\n",
      "4     1.59820\n",
      "5     2.08876\n",
      "6     2.29160\n",
      "7     2.92866\n",
      "8     3.30379\n",
      "9     3.73974\n",
      "10    5.24217\n",
      "11    7.77756\n",
      "12    9.63480\n",
      "13    9.69010\n",
      "14    9.78820\n",
      "dtype: float64\n",
      "0     1015.64\n",
      "1     1057.06\n",
      "2     1106.11\n",
      "3     1161.70\n",
      "4     1230.37\n",
      "5     1273.97\n",
      "6     1319.75\n",
      "7     1363.35\n",
      "8     1406.95\n",
      "9     1450.55\n",
      "10    1487.61\n",
      "11    1537.75\n",
      "12    1581.35\n",
      "13    1624.95\n",
      "14    1668.55\n",
      "Name: Tp, dtype: float64\n"
     ]
    },
    {
     "data": {
      "image/png": "[encoded data removed]",
      "text/plain": [
       "<Figure size 640x480 with 1 Axes>"
      ]
     },
     "metadata": {},
     "output_type": "display_data"
    }
   ],
   "source": [
    "def interp(x, y):\n",
    "    return interp1d(x, y, kind='cubic')\n",
    "T = T - 273\n",
    "\n",
    "mipt.plot(T, W, func=None, marker_size=6, exclude=[13, 14], linestyle='dashed', xerr=15)\n",
    "\n",
    "T_excl = pd.array(T[0:13])\n",
    "W_excl = pd.array(W[0:13])\n",
    "z = np.polyfit(T_excl, W_excl, 4)\n",
    "p = np.poly1d(z)\n",
    "t = np.linspace(T_excl.min(), T_excl.max(), 100)\n",
    "plt.plot(t, p(t), ms=10, linestyle=':', color=\"red\")\n",
    "\n",
    "\n",
    "plt.ylabel(r\"$W$, Вт\")\n",
    "plt.xlabel(r\"$T, ^\\circ C$\")\n",
    "# plt.legend()\n",
    "plt.savefig('gen/fig-wt.pdf')\n",
    "print(W)\n",
    "print(T)\n",
    "T = T + 273\n",
    "\n"
   ]
  },
  {
   "cell_type": "code",
   "execution_count": 8,
   "id": "bffcfec3",
   "metadata": {},
   "outputs": [
    {
     "data": {
      "text/html": [
       "<div>\n",
       "<style scoped>\n",
       "    .dataframe tbody tr th:only-of-type {\n",
       "        vertical-align: middle;\n",
       "    }\n",
       "\n",
       "    .dataframe tbody tr th {\n",
       "        vertical-align: top;\n",
       "    }\n",
       "\n",
       "    .dataframe thead th {\n",
       "        text-align: right;\n",
       "    }\n",
       "</style>\n",
       "<table border=\"1\" class=\"dataframe\">\n",
       "  <thead>\n",
       "    <tr style=\"text-align: right;\">\n",
       "      <th></th>\n",
       "      <th>$T, ^oC$</th>\n",
       "      <th>$I$, А</th>\n",
       "      <th>$V$, В</th>\n",
       "      <th>$W$, Вт</th>\n",
       "    </tr>\n",
       "  </thead>\n",
       "  <tbody>\n",
       "    <tr>\n",
       "      <th>0</th>\n",
       "      <td>923</td>\n",
       "      <td>0.548</td>\n",
       "      <td>2.01</td>\n",
       "      <td>1.10148</td>\n",
       "    </tr>\n",
       "    <tr>\n",
       "      <th>1</th>\n",
       "      <td>961</td>\n",
       "      <td>0.540</td>\n",
       "      <td>1.92</td>\n",
       "      <td>1.03680</td>\n",
       "    </tr>\n",
       "    <tr>\n",
       "      <th>2</th>\n",
       "      <td>1006</td>\n",
       "      <td>0.578</td>\n",
       "      <td>2.29</td>\n",
       "      <td>1.32362</td>\n",
       "    </tr>\n",
       "    <tr>\n",
       "      <th>3</th>\n",
       "      <td>1057</td>\n",
       "      <td>0.587</td>\n",
       "      <td>2.38</td>\n",
       "      <td>1.39706</td>\n",
       "    </tr>\n",
       "    <tr>\n",
       "      <th>4</th>\n",
       "      <td>1120</td>\n",
       "      <td>0.610</td>\n",
       "      <td>2.62</td>\n",
       "      <td>1.59820</td>\n",
       "    </tr>\n",
       "    <tr>\n",
       "      <th>5</th>\n",
       "      <td>1160</td>\n",
       "      <td>0.661</td>\n",
       "      <td>3.16</td>\n",
       "      <td>2.08876</td>\n",
       "    </tr>\n",
       "    <tr>\n",
       "      <th>6</th>\n",
       "      <td>1202</td>\n",
       "      <td>0.680</td>\n",
       "      <td>3.37</td>\n",
       "      <td>2.29160</td>\n",
       "    </tr>\n",
       "    <tr>\n",
       "      <th>7</th>\n",
       "      <td>1242</td>\n",
       "      <td>0.734</td>\n",
       "      <td>3.99</td>\n",
       "      <td>2.92866</td>\n",
       "    </tr>\n",
       "    <tr>\n",
       "      <th>8</th>\n",
       "      <td>1282</td>\n",
       "      <td>0.763</td>\n",
       "      <td>4.33</td>\n",
       "      <td>3.30379</td>\n",
       "    </tr>\n",
       "    <tr>\n",
       "      <th>9</th>\n",
       "      <td>1322</td>\n",
       "      <td>0.794</td>\n",
       "      <td>4.71</td>\n",
       "      <td>3.73974</td>\n",
       "    </tr>\n",
       "    <tr>\n",
       "      <th>10</th>\n",
       "      <td>1356</td>\n",
       "      <td>0.887</td>\n",
       "      <td>5.91</td>\n",
       "      <td>5.24217</td>\n",
       "    </tr>\n",
       "    <tr>\n",
       "      <th>11</th>\n",
       "      <td>1402</td>\n",
       "      <td>0.987</td>\n",
       "      <td>7.88</td>\n",
       "      <td>7.77756</td>\n",
       "    </tr>\n",
       "    <tr>\n",
       "      <th>12</th>\n",
       "      <td>1442</td>\n",
       "      <td>1.085</td>\n",
       "      <td>8.88</td>\n",
       "      <td>9.63480</td>\n",
       "    </tr>\n",
       "    <tr>\n",
       "      <th>13</th>\n",
       "      <td>1482</td>\n",
       "      <td>1.090</td>\n",
       "      <td>8.89</td>\n",
       "      <td>9.69010</td>\n",
       "    </tr>\n",
       "    <tr>\n",
       "      <th>14</th>\n",
       "      <td>1522</td>\n",
       "      <td>1.090</td>\n",
       "      <td>8.98</td>\n",
       "      <td>9.78820</td>\n",
       "    </tr>\n",
       "  </tbody>\n",
       "</table>\n",
       "</div>"
      ],
      "text/plain": [
       "    $T, ^oC$  $I$, А  $V$, В  $W$, Вт\n",
       "0        923   0.548    2.01  1.10148\n",
       "1        961   0.540    1.92  1.03680\n",
       "2       1006   0.578    2.29  1.32362\n",
       "3       1057   0.587    2.38  1.39706\n",
       "4       1120   0.610    2.62  1.59820\n",
       "5       1160   0.661    3.16  2.08876\n",
       "6       1202   0.680    3.37  2.29160\n",
       "7       1242   0.734    3.99  2.92866\n",
       "8       1282   0.763    4.33  3.30379\n",
       "9       1322   0.794    4.71  3.73974\n",
       "10      1356   0.887    5.91  5.24217\n",
       "11      1402   0.987    7.88  7.77756\n",
       "12      1442   1.085    8.88  9.63480\n",
       "13      1482   1.090    8.89  9.69010\n",
       "14      1522   1.090    8.98  9.78820"
      ]
     },
     "execution_count": 8,
     "metadata": {},
     "output_type": "execute_result"
    }
   ],
   "source": [
    "\n",
    "export = pd.concat([\n",
    "    data['Tp'],\n",
    "    data['I'],\n",
    "    data['V'],\n",
    "    W.rename('W'),  \n",
    "], axis=1)\n",
    "\n",
    "\n",
    "fmt = {\n",
    "    'Tp' : [r'$T, ^oC$', '{:.1f}', 0],\n",
    "    'I' : [r'$I$, А', '{:.2f}', 0],\n",
    "    'V' : [r'$V$, В', '{:.2f}', 0],\n",
    "    'W' : [r'$W$, Вт', '{:.2f}', 0],\n",
    "}\n",
    "\n",
    "tab = mipt.table(export, fmt)\n",
    "tab.to_latex('gen/tab-sb.tex')\n",
    "tab.rename().data"
   ]
  },
  {
   "cell_type": "code",
   "execution_count": 41,
   "id": "2982e6b6",
   "metadata": {},
   "outputs": [
    {
     "data": {
      "text/html": [
       "<div>\n",
       "<style scoped>\n",
       "    .dataframe tbody tr th:only-of-type {\n",
       "        vertical-align: middle;\n",
       "    }\n",
       "\n",
       "    .dataframe tbody tr th {\n",
       "        vertical-align: top;\n",
       "    }\n",
       "\n",
       "    .dataframe thead th {\n",
       "        text-align: right;\n",
       "    }\n",
       "</style>\n",
       "<table border=\"1\" class=\"dataframe\">\n",
       "  <thead>\n",
       "    <tr style=\"text-align: right;\">\n",
       "      <th></th>\n",
       "      <th>&lt;x&gt;</th>\n",
       "      <th>sx</th>\n",
       "      <th>&lt;y&gt;</th>\n",
       "      <th>sy</th>\n",
       "      <th>rxy</th>\n",
       "      <th>r</th>\n",
       "      <th>a</th>\n",
       "      <th>da</th>\n",
       "      <th>b</th>\n",
       "      <th>db</th>\n",
       "    </tr>\n",
       "  </thead>\n",
       "  <tbody>\n",
       "    <tr>\n",
       "      <th>0</th>\n",
       "      <td>7.316385</td>\n",
       "      <td>0.009073</td>\n",
       "      <td>0.637086</td>\n",
       "      <td>0.191495</td>\n",
       "      <td>0.040802</td>\n",
       "      <td>0.978888</td>\n",
       "      <td>4.497219</td>\n",
       "      <td>0.332001</td>\n",
       "      <td>-32.266298</td>\n",
       "      <td>2.429254</td>\n",
       "    </tr>\n",
       "  </tbody>\n",
       "</table>\n",
       "</div>"
      ],
      "text/plain": [
       "        <x>        sx       <y>        sy       rxy         r         a  \\\n",
       "0  7.316385  0.009073  0.637086  0.191495  0.040802  0.978888  4.497219   \n",
       "\n",
       "         da          b        db  \n",
       "0  0.332001 -32.266298  2.429254  "
      ]
     },
     "execution_count": 41,
     "metadata": {},
     "output_type": "execute_result"
    },
    {
     "data": {
      "image/png": "[encoded data removed]",
      "text/plain": [
       "<Figure size 640x480 with 1 Axes>"
      ]
     },
     "metadata": {},
     "output_type": "display_data"
    }
   ],
   "source": [
    "x, y, equ = mipt.plot(np.log(T), np.log(W), exclude=[10, 11, 12, 13, 14], yerr = 0)\n",
    "\n",
    "mnk = mipt.mnk(x, y)\n",
    "mnk.to_latex('gen/tab-mnk.tex')\n",
    "\n",
    "plt.ylabel(r\"$\\ln W$\")\n",
    "plt.xlabel(r\"$\\ln T$\")\n",
    "plt.savefig('gen/fig-linwt.pdf')\n",
    "\n",
    "mnk.data"
   ]
  },
  {
   "cell_type": "code",
   "execution_count": 17,
   "id": "3cbb7f4f",
   "metadata": {},
   "outputs": [
    {
     "name": "stdout",
     "output_type": "stream",
     "text": [
      "$$ \\varepsion_T = -0.08 \\cdot T^2 + 0.0002 \\cdot T + -1.6e-08 $$\n"
     ]
    },
    {
     "data": {
      "image/png": "[encoded data removed]",
      "text/plain": [
       "<Figure size 640x480 with 1 Axes>"
      ]
     },
     "metadata": {},
     "output_type": "display_data"
    }
   ],
   "source": [
    "data_eps = mipt.read_excel('data/5.8.1-raw.xlsx', usecols=(5,6), header=(0)).dropna()\n",
    "\n",
    "x, y, equ = mipt.plot(data_eps['Teps'], data_eps['Eps'], exclude=[], func=None)\n",
    "\n",
    "mnk = mipt.mnk(x, y)\n",
    "\n",
    "\n",
    "z = np.polyfit(data_eps['Teps'], data_eps['Eps'], 2)\n",
    "epsilon = np.poly1d(z)\n",
    "t = np.linspace(data_eps['Teps'].min(), data_eps['Teps'].max(), 100)\n",
    "plt.plot(t, epsilon(t), ms=10, linestyle=':')\n",
    "\n",
    "plt.xlabel(r\"$T, К$\")\n",
    "plt.ylabel(r\"$\\varepsilon_T$\")\n",
    "plt.savefig('gen/fig-epsilon.pdf')\n",
    "\n",
    "print('$$ \\\\varepsion_T = {:.2g} \\\\cdot T^2 + {:.2g} \\\\cdot T + {:.2g} $$'.format(epsilon[0], epsilon[1], epsilon[2]))"
   ]
  },
  {
   "cell_type": "code",
   "execution_count": 46,
   "id": "2d94b85c",
   "metadata": {
    "scrolled": true
   },
   "outputs": [
    {
     "name": "stdout",
     "output_type": "stream",
     "text": [
      "0     7.550583e-08\n",
      "1     6.000270e-08\n",
      "2     6.316982e-08\n",
      "3     5.408828e-08\n",
      "4     4.838107e-08\n",
      "5     5.444187e-08\n",
      "6     5.130120e-08\n",
      "7     5.697833e-08\n",
      "8     5.609274e-08\n",
      "9     5.562748e-08\n",
      "10    6.988709e-08\n",
      "11    8.977092e-08\n",
      "12    9.846048e-08\n",
      "13    8.795199e-08\n",
      "14    7.914485e-08\n",
      "dtype: float64\n"
     ]
    },
    {
     "data": {
      "image/png": "[encoded data removed]",
      "text/plain": [
       "<Figure size 640x480 with 1 Axes>"
      ]
     },
     "metadata": {},
     "output_type": "display_data"
    }
   ],
   "source": [
    "S = 0.36e-4\n",
    "sigmas = W / (epsilon(T) * T**4 * S)\n",
    "print(sigmas)\n",
    "\n",
    "def interp(x, y):\n",
    "    return interp1d(x, y, kind='cubic', bounds_error=True)\n",
    "\n",
    "x, y, equ = mipt.plot(T, sigmas, exclude=[], func=None, linestyle='--', yerr=sigmas*0.10, color='b')\n",
    "\n",
    "good_temps = np.array(T[4:10])\n",
    "good_sigmas = np.array(sigmas[4:10])\n",
    "mipt.plot(good_temps, good_sigmas, func=None, linestyle='-', color='red', marker_size=10)\n",
    "\n",
    "z = np.polyfit(T, sigmas, 2)\n",
    "ff = np.poly1d(z)\n",
    "t = np.linspace(T.min(), T.max(), 100)\n",
    "\n",
    "plt.plot(t, ff(t), ms=10, linestyle=':', c ='purple')\n",
    "\n",
    "plt.xlabel(r\"$T \\;K$\")\n",
    "plt.ylabel(r\"$\\sigma, \\frac{W}{m^2 K^4}$\")\n",
    "plt.savefig('gen/fig-sigma.pdf')"
   ]
  },
  {
   "cell_type": "code",
   "execution_count": 42,
   "id": "5f01492c",
   "metadata": {},
   "outputs": [
    {
     "name": "stdout",
     "output_type": "stream",
     "text": [
      "5.3803781721043324e-08\n",
      "6.735704788463981e-34\n"
     ]
    }
   ],
   "source": [
    "sigma = sigmas[4:10].mean()\n",
    "print(sigma)\n",
    "\n",
    "h = ((2 * consts.pi**5 * consts.k_b**4)/(15 * consts.c**2 * sigma))**(1/3)\n",
    "print(h)"
   ]
  },
  {
   "cell_type": "code",
   "execution_count": 13,
   "id": "314ba382",
   "metadata": {},
   "outputs": [
    {
     "name": "stdout",
     "output_type": "stream",
     "text": [
      "        <x>        sx        <y>        sy       rxy         r         a  \\\n",
      "0  7.401605  0.013316  13.048514  0.401584  0.070669  0.966404  5.307156   \n",
      "\n",
      "         da          b        db  \n",
      "0  0.407466 -26.232962  3.016267  \n"
     ]
    },
    {
     "data": {
      "image/png": "[encoded data removed]",
      "text/plain": [
       "<Figure size 640x480 with 1 Axes>"
      ]
     },
     "metadata": {},
     "output_type": "display_data"
    }
   ],
   "source": [
    "# lnW - ln(E_t S) = ln(sigma) + n ln(T)\n",
    "corr = np.log(epsilon(T) * S)\n",
    "lnW = np.log(W) - corr\n",
    "lnT = np.log(T)\n",
    "x, y, equ = mipt.plot(lnT, lnW, exclude=[0], yerr = 0)\n",
    "\n",
    "mnk = mipt.mnk(x, y)\n",
    "print(mnk.data)\n",
    "#mnk.to_latex('gen/tab-mnk.tex')\n",
    "\n",
    "plt.ylabel(r\"$\\ln W$\")\n",
    "plt.xlabel(r\"$\\ln T$\")\n",
    "plt.savefig('gen/test.pdf')"
   ]
  },
  {
   "cell_type": "code",
   "execution_count": null,
   "id": "e6e1cf31",
   "metadata": {},
   "outputs": [],
   "source": []
  },
  {
   "cell_type": "code",
   "execution_count": null,
   "id": "751acf14",
   "metadata": {},
   "outputs": [],
   "source": []
  }
 ],
 "metadata": {
  "kernelspec": {
   "display_name": "Python 3 (ipykernel)",
   "language": "python",
   "name": "python3"
  },
  "language_info": {
   "codemirror_mode": {
    "name": "ipython",
    "version": 3
   },
   "file_extension": ".py",
   "mimetype": "text/x-python",
   "name": "python",
   "nbconvert_exporter": "python",
   "pygments_lexer": "ipython3",
   "version": "3.12.5"
  }
 },
 "nbformat": 4,
 "nbformat_minor": 5
}
