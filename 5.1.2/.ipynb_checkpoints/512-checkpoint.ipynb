{
 "cells": [
  {
   "cell_type": "code",
   "execution_count": 1,
   "id": "2537a706",
   "metadata": {},
   "outputs": [],
   "source": [
    "import numpy as np\n",
    "import pandas as pd\n",
    "import matplotlib.pyplot as plt\n",
    "import math\n",
    "import scipy as sp\n",
    "import scipy.optimize as op\n",
    "from scipy.interpolate import UnivariateSpline\n",
    "import copy\n",
    "import re\n",
    "\n",
    "# Adding library directory to python search path\n",
    "import os\n",
    "import sys\n",
    "import git\n",
    "repo = git.Repo('.', search_parent_directories=True)\n",
    "library_dir = repo.working_tree_dir + '/lib'\n",
    "sys.path.insert(0, library_dir)\n",
    "\n",
    "import miptlib as mipt\n",
    "\n",
    "# Create directory for generated .tex and .pdf\n",
    "if not os.path.exists('gen'):\n",
    "    os.mkdir('gen')"
   ]
  },
  {
   "cell_type": "markdown",
   "id": "17234854",
   "metadata": {},
   "source": [
    "## Первичные экпериментальные данные"
   ]
  },
  {
   "cell_type": "code",
   "execution_count": 2,
   "id": "ced73801",
   "metadata": {},
   "outputs": [
    {
     "data": {
      "text/plain": [
       "3.437746770784939"
      ]
     },
     "execution_count": 2,
     "metadata": {},
     "output_type": "execute_result"
    }
   ],
   "source": [
    "data = mipt.read_excel('data/5.1.2.xlsx', usecols=('A', 'B', 'C'), header=(0)).dropna()\n",
    "data\n",
    "\n",
    "\n",
    "dT = 3e-2 / 0.5 * 180 / math.pi\n",
    "dTheta = np.empty(len(data['N']))\n",
    "dTheta.fill(dT) \n",
    "\n",
    "data.insert(1, 'dTheta', dTheta)\n",
    "\n",
    "dN = np.empty(len(data['N']))\n",
    "dN.fill(5) \n",
    "\n",
    "data.insert(3, 'dN', dN)\n",
    "\n",
    "# Ширина по половине высоты. Я у него спрашивал на лабе.\n",
    "fmt = {\n",
    "    ('Theta') : [r'$\\theta, ^\\circ$', '{:.0f}', 0],\n",
    "    ('dTheta') : [r'$\\sigma_{\\theta}, ^\\circ$', '{:.0f}', 0],\n",
    "    ('N') : [r'$N$, кан.', '{:.0f}', 0],\n",
    "    ('dN') : [r'$\\sigma_N$, кан.', '{:.0f}', 0],\n",
    "    ('Width') : [r'$\\Delta N$, кан.', '{:.0f}', 0],\n",
    "}\n",
    "\n",
    "tab = mipt.table(data, fmt)\n",
    "tab.to_latex('gen/tab-data.tex')\n",
    "dT"
   ]
  },
  {
   "cell_type": "code",
   "execution_count": 3,
   "id": "dc7c9883",
   "metadata": {},
   "outputs": [
    {
     "name": "stdout",
     "output_type": "stream",
     "text": [
      "N( 0) = 875.5168948786476 +- 18.65285796309314\n",
      "N(90) = 396.857006301796 +- 6.072621224045716\n",
      "mc2 = 548.864328182803 +- 26.333665948588447 кэВ\n"
     ]
    },
    {
     "name": "stderr",
     "output_type": "stream",
     "text": [
      "/tmp/ipykernel_109682/2359783864.py:14: FutureWarning: Calling float on a single element Series is deprecated and will raise a TypeError in the future. Use float(ser.iloc[0]) instead\n",
      "  N_0 = float(1 / mnk['b'])\n",
      "/tmp/ipykernel_109682/2359783864.py:15: FutureWarning: Calling float on a single element Series is deprecated and will raise a TypeError in the future. Use float(ser.iloc[0]) instead\n",
      "  dN_0 = float(mnk['db'] / mnk['b'] * N_0)\n",
      "/tmp/ipykernel_109682/2359783864.py:17: FutureWarning: Calling float on a single element Series is deprecated and will raise a TypeError in the future. Use float(ser.iloc[0]) instead\n",
      "  N_90 = 1 / float(mnk['b'] + mnk['a'] * 1)\n",
      "/tmp/ipykernel_109682/2359783864.py:18: FutureWarning: Calling float on a single element Series is deprecated and will raise a TypeError in the future. Use float(ser.iloc[0]) instead\n",
      "  dN_90 = float(math.sqrt(mnk['db']**2 + mnk['da']**2)) / float(mnk['b'] + mnk['a'] * 1) * N_90\n"
     ]
    },
    {
     "data": {
      "image/png": "[encoded data removed]",
      "text/plain": [
       "<Figure size 640x480 with 1 Axes>"
      ]
     },
     "metadata": {},
     "output_type": "display_data"
    }
   ],
   "source": [
    "x = 1 - np.cos(data['Theta'] * math.pi / 180)\n",
    "y = 1 / data['N']\n",
    "\n",
    "y_err = 10 / data['N'] * y # y #* 0. data['Width'] / data['N']\n",
    "\n",
    "x_err = np.abs(np.sin(data['Theta'] * math.pi / 180) * data['dTheta'] * math.pi / 180)\n",
    "\n",
    "xc, yc, equ = mipt.plot(x, y, yerr = y_err, xerr = x_err, exclude=(4,))\n",
    "mnk = mipt.mnk(xc, yc).data\n",
    "plt.xlabel(r\"$(1 - \\cos \\theta)$\")\n",
    "plt.ylabel(r\"$1/N(\\theta)$\")\n",
    "plt.savefig(\"gen/plot1.pdf\")\n",
    "\n",
    "N_0 = float(1 / mnk['b'])\n",
    "dN_0 = float(mnk['db'] / mnk['b'] * N_0)\n",
    "\n",
    "N_90 = 1 / float(mnk['b'] + mnk['a'] * 1)\n",
    "dN_90 = float(math.sqrt(mnk['db']**2 + mnk['da']**2)) / float(mnk['b'] + mnk['a'] * 1) * N_90 \n",
    "\n",
    "\n",
    "print(\"N( 0) = {} +- {}\".format(N_0, dN_0))\n",
    "print(\"N(90) = {} +- {}\".format(N_90, dN_90))\n",
    "\n",
    "Ey = 662 # кэВ (стр. 27)\n",
    "mc2 = Ey * N_90 / (N_0 - N_90)\n",
    "\n",
    "\n",
    "dmc2 = Ey * math.sqrt( dN_90**2 * ( (1/(N_0-N_90)) + (N_90/(N_0-N_90)**2) )**2 + dN_0**2 * (N_90/(N_0-N_90)**2)**2 )\n",
    "print(\"mc2 = {} +- {} кэВ\".format(mc2, dmc2))"
   ]
  },
  {
   "cell_type": "code",
   "execution_count": null,
   "id": "e6032e86",
   "metadata": {},
   "outputs": [],
   "source": []
  },
  {
   "cell_type": "code",
   "execution_count": null,
   "id": "4143faeb",
   "metadata": {},
   "outputs": [],
   "source": []
  }
 ],
 "metadata": {
  "kernelspec": {
   "display_name": "Python 3 (ipykernel)",
   "language": "python",
   "name": "python3"
  },
  "language_info": {
   "codemirror_mode": {
    "name": "ipython",
    "version": 3
   },
   "file_extension": ".py",
   "mimetype": "text/x-python",
   "name": "python",
   "nbconvert_exporter": "python",
   "pygments_lexer": "ipython3",
   "version": "3.12.3"
  }
 },
 "nbformat": 4,
 "nbformat_minor": 5
}
